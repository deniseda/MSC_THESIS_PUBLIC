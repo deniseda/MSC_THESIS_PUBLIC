{
 "cells": [
  {
   "cell_type": "code",
   "execution_count": null,
   "metadata": {},
   "outputs": [],
   "source": [
    "from sklearn.model_selection import StratifiedKFold\n",
    "#from sklearn import tree "
   ]
  },
  {
   "cell_type": "code",
   "execution_count": null,
   "metadata": {},
   "outputs": [],
   "source": [
    "%run \"../../common/matrix.py\"\n",
    "%run \"../../common/function_classifier.py\"\n",
    "%run \"../../common/Functions.py\"\n",
    "%run \"../../common/file_handler.py\"\n",
    "%run \"../../common/grid_search_rf.py\"\n",
    "%run \"../../common/plot_functions.py\""
   ]
  },
  {
   "cell_type": "code",
   "execution_count": null,
   "metadata": {},
   "outputs": [],
   "source": [
    "FI_XSIZE = 20\n",
    "FI_YSIZE = 10\n",
    "\n",
    "FI_ALL_XSIZE = 30\n",
    "FI_ALL_YSIZE = 15\n",
    "\n",
    "PERF_XSIZE =10\n",
    "PERF_YSIZE = 12"
   ]
  },
  {
   "cell_type": "code",
   "execution_count": null,
   "metadata": {},
   "outputs": [],
   "source": [
    "FIGSAVE = True"
   ]
  },
  {
   "cell_type": "code",
   "execution_count": null,
   "metadata": {},
   "outputs": [],
   "source": [
    "imported_matrix = open_file_from_fullpath(ask_file_path(), 'r')\n",
    "matrix_tobe_classified = pd.read_perseus(imported_matrix)"
   ]
  },
  {
   "cell_type": "code",
   "execution_count": null,
   "metadata": {},
   "outputs": [],
   "source": [
    "matrix_json = open_file_from_fullpath(ask_file_path(), 'r')"
   ]
  },
  {
   "cell_type": "markdown",
   "metadata": {},
   "source": [
    "Drop QC"
   ]
  },
  {
   "cell_type": "code",
   "execution_count": null,
   "metadata": {},
   "outputs": [],
   "source": [
    "matrix_tobe_cl_noqc = slice_submatrix(matrix_tobe_classified,get_value_from_json(matrix_json,'sample_slice'))\n",
    "dictionary_cl_noqc, matrix_tobe_cl_noqc = rename_matrixheader_labels(matrix_tobe_cl_noqc, get_value_from_json(matrix_json,'sample_rename'))"
   ]
  },
  {
   "cell_type": "code",
   "execution_count": null,
   "metadata": {},
   "outputs": [],
   "source": [
    "binary_label_OC = create_labels(matrix_tobe_cl_noqc, drop= ['post', 'local'])\n",
    "binary_features_OC = create_feature_matrix(matrix_tobe_cl_noqc, drop=['post', 'local'])"
   ]
  },
  {
   "cell_type": "code",
   "execution_count": null,
   "metadata": {},
   "outputs": [],
   "source": [
    "binary_label_OL = create_labels(matrix_tobe_cl_noqc, drop = ['control', 'post'])\n",
    "binary_features_OL = create_feature_matrix(matrix_tobe_cl_noqc, drop=  ['control', 'post'])"
   ]
  },
  {
   "cell_type": "code",
   "execution_count": null,
   "metadata": {},
   "outputs": [],
   "source": [
    "binary_label_CL = create_labels(matrix_tobe_cl_noqc, drop = ['post', 'onset'])\n",
    "binary_features_CL = create_feature_matrix(matrix_tobe_cl_noqc, drop = ['post', 'onset'])"
   ]
  },
  {
   "cell_type": "code",
   "execution_count": null,
   "metadata": {},
   "outputs": [],
   "source": [
    "binary_label_OvsCL = create_labels_binary(matrix_tobe_cl_noqc, 'onset' ,'control_local', ['onset'], ['control', 'local'], discard=['post'])\n",
    "binary_features_OvsCL = create_feature_matrix(matrix_tobe_cl_noqc, drop= 'post')"
   ]
  },
  {
   "cell_type": "markdown",
   "metadata": {},
   "source": [
    "Global params for grid search"
   ]
  },
  {
   "cell_type": "code",
   "execution_count": null,
   "metadata": {},
   "outputs": [],
   "source": [
    "params_grid = {'max_depth': [int(x) for x in np.arange(1,10, 2)], 'max_features': ['log2','sqrt'], 'random_state' : [0]}\n",
    "params_grid_50 = {'max_depth': [int(x) for x in np.arange(1,10, 2)], 'max_features': ['log2','sqrt'], 'random_state' : [0], 'n_estimators' : [50]}\n",
    "params_grid_75 = {'max_depth': [int(x) for x in np.arange(1,10, 2)], 'max_features': ['log2','sqrt'], 'random_state' : [0], 'n_estimators' : [75]}\n",
    "skf = StratifiedKFold(n_splits=5, shuffle=True, random_state=0)"
   ]
  },
  {
   "cell_type": "markdown",
   "metadata": {},
   "source": [
    "Splitting data"
   ]
  },
  {
   "cell_type": "code",
   "execution_count": null,
   "metadata": {},
   "outputs": [],
   "source": [
    "Xbin_OC_train, Xbin_OC_test, ybin_OC_train, ybin_OC_test = train_test_split(binary_features_OC, binary_label_OC, test_size= 0.20, random_state=0, stratify= binary_label_OC)\n",
    "Xbin_OL_train, Xbin_OL_test, ybin_OL_train, ybin_OL_test = train_test_split(binary_features_OL, binary_label_OL, test_size= 0.20, random_state=0, stratify= binary_label_OL)\n",
    "Xbin_CL_train, Xbin_CL_test, ybin_CL_train, ybin_CL_test = train_test_split(binary_features_CL, binary_label_CL, test_size= 0.20, random_state=0, stratify= binary_label_CL)\n",
    "Xbin_OvsCL_train, Xbin_OvsCL_test, ybin_OvsCL_train, ybin_OvsCL_test = train_test_split(binary_features_OvsCL, binary_label_OvsCL, test_size= 0.20, random_state=0, stratify= binary_label_OvsCL)"
   ]
  },
  {
   "cell_type": "markdown",
   "metadata": {},
   "source": [
    "Gridsearch"
   ]
  },
  {
   "cell_type": "code",
   "execution_count": null,
   "metadata": {},
   "outputs": [],
   "source": [
    "binary_grid_OC_100 = grid_search_rf_classifier(features=Xbin_OC_train, labels= ybin_OC_train, parameters = params_grid, cv = skf, name= \"\", checkpoint_path=None, checkpoint= False)\n",
    "binary_grid_OC_75 = grid_search_rf_classifier(features=Xbin_OC_train, labels= ybin_OC_train, parameters = params_grid_75, cv = skf, name= \"\", checkpoint_path=None, checkpoint= False)\n",
    "binary_grid_OC_50 = grid_search_rf_classifier(features=Xbin_OC_train, labels= ybin_OC_train, parameters = params_grid_50, cv = skf, name= \"\", checkpoint_path=None, checkpoint= False)\n",
    "\n",
    "\n",
    "binary_grid_OL_100 = grid_search_rf_classifier(features=Xbin_OL_train, labels= ybin_OL_train, parameters = params_grid, cv = skf, name= \"\", checkpoint_path=None, checkpoint= False)\n",
    "binary_grid_OL_75 = grid_search_rf_classifier(features=Xbin_OL_train, labels= ybin_OL_train, parameters = params_grid_75, cv = skf, name= \"\", checkpoint_path=None, checkpoint= False)\n",
    "binary_grid_OL_50 = grid_search_rf_classifier(features=Xbin_OL_train, labels= ybin_OL_train, parameters = params_grid_50, cv = skf, name= \"\", checkpoint_path=None, checkpoint= False)\n",
    "\n",
    "\n",
    "\n",
    "binary_grid_CL_100 = grid_search_rf_classifier(features=Xbin_CL_train, labels= ybin_CL_train, parameters = params_grid, cv = skf, name= \"\", checkpoint_path=None, checkpoint= False)\n",
    "binary_grid_CL_75 = grid_search_rf_classifier(features=Xbin_CL_train, labels= ybin_CL_train, parameters = params_grid_75, cv = skf, name= \"\", checkpoint_path=None, checkpoint= False)\n",
    "binary_grid_CL_50 = grid_search_rf_classifier(features=Xbin_CL_train, labels= ybin_CL_train, parameters = params_grid_50, cv = skf, name= \"\", checkpoint_path=None, checkpoint= False)\n",
    "\n",
    "\n",
    "binary_grid_OvsCL_100 = grid_search_rf_classifier(features=Xbin_OvsCL_train, labels= ybin_OvsCL_train, parameters = params_grid, cv = skf, name= \"\", checkpoint_path=None, checkpoint= False)\n",
    "binary_grid_OvsCL_75 = grid_search_rf_classifier(features=Xbin_OvsCL_train, labels= ybin_OvsCL_train, parameters = params_grid_75, cv = skf, name= \"\", checkpoint_path=None, checkpoint= False)\n",
    "binary_grid_OvsCL_50 = grid_search_rf_classifier(features=Xbin_OvsCL_train, labels= ybin_OvsCL_train, parameters = params_grid_50, cv = skf, name= \"\", checkpoint_path=None, checkpoint= False)"
   ]
  },
  {
   "cell_type": "markdown",
   "metadata": {},
   "source": [
    "Training classifiers"
   ]
  },
  {
   "cell_type": "code",
   "execution_count": null,
   "metadata": {},
   "outputs": [],
   "source": [
    "binary_classifier_OC = RandomForestClassifier(criterion='gini', max_depth= binary_grid_OC_100[0].best_params_['max_depth'], max_features= binary_grid_OC_100[0].best_params_['max_features'])\n",
    "binary_classifier_OC.fit(Xbin_OC_train, ybin_OC_train)\n",
    "binary_classifier_OC75 = RandomForestClassifier(criterion='gini', max_depth= binary_grid_OC_75[0].best_params_['max_depth'], max_features= binary_grid_OC_75[0].best_params_['max_features'], n_estimators= 75)\n",
    "binary_classifier_OC75.fit(Xbin_OC_train, ybin_OC_train)\n",
    "binary_classifier_OC50 = RandomForestClassifier(criterion='gini', max_depth= binary_grid_OC_50[0].best_params_['max_depth'], max_features= binary_grid_OC_50[0].best_params_['max_features'], n_estimators= 50)\n",
    "binary_classifier_OC50.fit(Xbin_OC_train, ybin_OC_train)"
   ]
  },
  {
   "cell_type": "code",
   "execution_count": null,
   "metadata": {},
   "outputs": [],
   "source": [
    "binary_classifier_OL = RandomForestClassifier(criterion='gini', max_depth= binary_grid_OL_100[0].best_params_['max_depth'], max_features= binary_grid_OL_100[0].best_params_['max_features'])\n",
    "binary_classifier_OL.fit(Xbin_OL_train, ybin_OL_train)\n",
    "binary_classifier_OL75 = RandomForestClassifier(criterion='gini', max_depth= binary_grid_OL_75[0].best_params_['max_depth'], max_features= binary_grid_OL_75[0].best_params_['max_features'], n_estimators= 75)\n",
    "binary_classifier_OL75.fit(Xbin_OL_train, ybin_OL_train)\n",
    "binary_classifier_OL50 = RandomForestClassifier(criterion='gini', max_depth= binary_grid_OL_50[0].best_params_['max_depth'], max_features= binary_grid_OL_50[0].best_params_['max_features'], n_estimators= 50)\n",
    "binary_classifier_OL50.fit(Xbin_OL_train, ybin_OL_train)"
   ]
  },
  {
   "cell_type": "code",
   "execution_count": null,
   "metadata": {},
   "outputs": [],
   "source": [
    "binary_classifier_CL = RandomForestClassifier(criterion='gini', max_depth= binary_grid_CL_100[0].best_params_['max_depth'], max_features= binary_grid_CL_100[0].best_params_['max_features'])\n",
    "binary_classifier_CL.fit(Xbin_CL_train, ybin_CL_train)\n",
    "binary_classifier_CL75 = RandomForestClassifier(criterion='gini', max_depth= binary_grid_CL_75[0].best_params_['max_depth'], max_features= binary_grid_CL_75[0].best_params_['max_features'], n_estimators= 75)\n",
    "binary_classifier_CL75.fit(Xbin_CL_train, ybin_CL_train)\n",
    "binary_classifier_CL50 = RandomForestClassifier(criterion='gini', max_depth= binary_grid_CL_50[0].best_params_['max_depth'], max_features= binary_grid_CL_50[0].best_params_['max_features'], n_estimators= 50)\n",
    "binary_classifier_CL50.fit(Xbin_CL_train, ybin_CL_train)"
   ]
  },
  {
   "cell_type": "code",
   "execution_count": null,
   "metadata": {},
   "outputs": [],
   "source": [
    "binary_classifier_OvsCL = RandomForestClassifier(criterion='gini', max_depth= binary_grid_OvsCL_100[0].best_params_['max_depth'], max_features= binary_grid_OvsCL_100[0].best_params_['max_features'])\n",
    "binary_classifier_OvsCL.fit(Xbin_OvsCL_train, ybin_OvsCL_train)\n",
    "binary_classifier_OvsCL75 = RandomForestClassifier(criterion='gini', max_depth= binary_grid_OvsCL_75[0].best_params_['max_depth'], max_features= binary_grid_OvsCL_75[0].best_params_['max_features'], n_estimators= 75)\n",
    "binary_classifier_OvsCL75.fit(Xbin_OvsCL_train, ybin_OvsCL_train)\n",
    "binary_classifier_OvsCL50 = RandomForestClassifier(criterion='gini', max_depth= binary_grid_OvsCL_50[0].best_params_['max_depth'], max_features= binary_grid_OvsCL_50[0].best_params_['max_features'], n_estimators= 50)\n",
    "binary_classifier_OvsCL50.fit(Xbin_OvsCL_train, ybin_OvsCL_train)"
   ]
  },
  {
   "cell_type": "markdown",
   "metadata": {},
   "source": [
    "Values of classifiers"
   ]
  },
  {
   "cell_type": "code",
   "execution_count": null,
   "metadata": {},
   "outputs": [],
   "source": [
    "classifiers_params = get_best_value([binary_classifier_OC, binary_classifier_OC75, binary_classifier_OC75, binary_classifier_OL, binary_classifier_OL75, binary_classifier_OL50, binary_classifier_CL, binary_classifier_CL75, binary_classifier_CL50, binary_classifier_OvsCL, binary_classifier_OvsCL75, binary_classifier_OvsCL50])\n",
    "print(classifiers_params)"
   ]
  },
  {
   "cell_type": "code",
   "execution_count": null,
   "metadata": {},
   "outputs": [],
   "source": [
    "save_classifiers_params = open(generate_new_file_path(imported_matrix, '_classifiers_params'), 'w')\n",
    "save_classifiers_params.write(classifiers_params)\n",
    "save_classifiers_params.close()"
   ]
  },
  {
   "cell_type": "markdown",
   "metadata": {},
   "source": [
    "Predictions"
   ]
  },
  {
   "cell_type": "code",
   "execution_count": null,
   "metadata": {},
   "outputs": [],
   "source": [
    "ybinary_prediction_OC = binary_classifier_OC.predict(Xbin_OC_test)\n",
    "ybinary_prediction_OC75 = binary_classifier_OC75.predict(Xbin_OC_test)\n",
    "ybinary_prediction_OC50 = binary_classifier_OC50.predict(Xbin_OC_test)\n",
    "\n",
    "ybinary_prediction_OL = binary_classifier_OL.predict(Xbin_OL_test)\n",
    "ybinary_prediction_OL75 = binary_classifier_OL75.predict(Xbin_OL_test)\n",
    "ybinary_prediction_OL50 = binary_classifier_OL50.predict(Xbin_OL_test)\n",
    "\n",
    "ybinary_prediction_CL = binary_classifier_CL.predict(Xbin_CL_test)\n",
    "ybinary_prediction_CL75 = binary_classifier_CL75.predict(Xbin_CL_test)\n",
    "ybinary_prediction_CL50 = binary_classifier_CL50.predict(Xbin_CL_test)\n",
    "\n",
    "ybinary_prediction_OvsCL = binary_classifier_OvsCL.predict(Xbin_OvsCL_test)\n",
    "ybinary_prediction_OvsCL75 = binary_classifier_OvsCL75.predict(Xbin_OvsCL_test)\n",
    "ybinary_prediction_OvsCL50 = binary_classifier_OvsCL50.predict(Xbin_OvsCL_test)"
   ]
  },
  {
   "cell_type": "code",
   "execution_count": null,
   "metadata": {},
   "outputs": [],
   "source": [
    "\n",
    "scores_OC = print_results(ybin_OC_test, ybinary_prediction_OC)\n",
    "scores_OC75 = print_results(ybin_OC_test, ybinary_prediction_OC75)\n",
    "scores_OC50 = print_results(ybin_OC_test, ybinary_prediction_OC50)\n",
    "\n",
    "\n",
    "scores_OL = print_results(ybin_OL_test, ybinary_prediction_OL)\n",
    "scores_OL75 = print_results(ybin_OL_test, ybinary_prediction_OL75)\n",
    "scores_OL50 = print_results(ybin_OL_test, ybinary_prediction_OL50)\n",
    "\n",
    "\n",
    "\n",
    "scores_CL =  print_results(ybin_CL_test, ybinary_prediction_CL)\n",
    "scores_CL75 = print_results(ybin_CL_test, ybinary_prediction_CL75)\n",
    "scores_CL50 = print_results(ybin_CL_test, ybinary_prediction_CL50)\n",
    "\n",
    "\n",
    "\n",
    "scores_OvsCL = print_results(ybin_OvsCL_test, ybinary_prediction_OvsCL)\n",
    "scores_OvsCL75 =print_results(ybin_OvsCL_test, ybinary_prediction_OvsCL75)\n",
    "scores_OvsCL50 = print_results(ybin_OvsCL_test, ybinary_prediction_OvsCL50)\n",
    "\n",
    "all_scores = 'onset vs control\\n '+  scores_OC + '\\n' + scores_OC75 + '\\n' + scores_OC50 + '\\nonset vs local\\n'+ scores_OL + '\\n'+ scores_OL75 + '\\n' + scores_OL50 + '\\ncontrol vs local\\n' + scores_CL + '\\n' + scores_CL75 + '\\n' + scores_CL50 + '\\nonset vs control-local\\n' + scores_OvsCL + '\\n' + scores_OvsCL75 + '\\n'+ scores_OvsCL50 + '\\n'"
   ]
  },
  {
   "cell_type": "code",
   "execution_count": null,
   "metadata": {},
   "outputs": [],
   "source": [
    "save_scoring = open(generate_new_file_path(imported_matrix, '_scoring_all_classifiers'), 'w')\n",
    "save_scoring.write(all_scores)\n",
    "save_scoring.close()"
   ]
  },
  {
   "cell_type": "code",
   "execution_count": null,
   "metadata": {},
   "outputs": [],
   "source": [
    "binary_OC_df = create_dataframe(['X', 'Y'], [[binary_classifier_OC.n_estimators, binary_classifier_OC75.n_estimators, binary_classifier_OC50.n_estimators], \n",
    "[balanced_accuracy_score(ybin_OC_test, ybinary_prediction_OC), balanced_accuracy_score(ybin_OC_test, ybinary_prediction_OC75) ,balanced_accuracy_score(ybin_OC_test, ybinary_prediction_OC50)]])\n",
    "\n",
    "binary_OL_df = create_dataframe(['X', 'Y'], [[binary_classifier_OL.n_estimators, binary_classifier_OL75.n_estimators, binary_classifier_OL50.n_estimators], \n",
    "[balanced_accuracy_score(ybin_OL_test, ybinary_prediction_OL), balanced_accuracy_score(ybin_OL_test, ybinary_prediction_OL75) ,balanced_accuracy_score(ybin_OL_test, ybinary_prediction_OL50)]])\n",
    "\n",
    "binary_CL_df = create_dataframe(['X', 'Y'], [[binary_classifier_CL.n_estimators, binary_classifier_CL75.n_estimators, binary_classifier_CL50.n_estimators], \n",
    "[balanced_accuracy_score(ybin_CL_test, ybinary_prediction_CL), balanced_accuracy_score(ybin_CL_test, ybinary_prediction_CL75) ,balanced_accuracy_score(ybin_CL_test, ybinary_prediction_CL50)]])\n",
    "\n",
    "binary_OvsCL_df = create_dataframe(['X', 'Y'], [[binary_classifier_OvsCL.n_estimators, binary_classifier_OvsCL75.n_estimators, binary_classifier_OvsCL50.n_estimators], \n",
    "[balanced_accuracy_score(ybin_OvsCL_test, ybinary_prediction_OvsCL), balanced_accuracy_score(ybin_OvsCL_test, ybinary_prediction_OvsCL75) ,balanced_accuracy_score(ybin_OvsCL_test, ybinary_prediction_OvsCL50)]])"
   ]
  },
  {
   "cell_type": "markdown",
   "metadata": {},
   "source": [
    "Performances of classifiers"
   ]
  },
  {
   "cell_type": "code",
   "execution_count": null,
   "metadata": {},
   "outputs": [],
   "source": [
    "display_performances_wl([binary_OC_df ], [50, 75,100],get_file_name(imported_matrix) + ' - Performances of binary classification: Onset vs Control', 'Number of estimators', 'Performances', PERF_XSIZE, PERF_YSIZE, ['*'], 150, ['onset vs control'], FIGSAVE, fig_path= merge_path_filename(get_file_path(imported_matrix), get_file_name(imported_matrix), '_RF_Performances_all_classificators_OC_','.svg'))"
   ]
  },
  {
   "cell_type": "code",
   "execution_count": null,
   "metadata": {},
   "outputs": [],
   "source": [
    "display_performances_wl([ binary_OL_df], [50, 75,100],get_file_name(imported_matrix) + ' - Performances of binary classification Onset vs Local ', 'Number of estimators', 'Performances', PERF_XSIZE, PERF_YSIZE, ['*'], 150, ['onset vs local'], FIGSAVE, fig_path= merge_path_filename(get_file_path(imported_matrix), get_file_name(imported_matrix), '_RF_Performances_all_classificators_OL','.svg'))"
   ]
  },
  {
   "cell_type": "code",
   "execution_count": null,
   "metadata": {},
   "outputs": [],
   "source": [
    "display_performances_wl([binary_CL_df], [50, 75,100],get_file_name(imported_matrix) + ' - Performances of binary classification Control vs Local ', 'Number of estimators', 'Performances', PERF_XSIZE, PERF_YSIZE, [ '*'], 150, ['control vs local'], FIGSAVE, fig_path= merge_path_filename(get_file_path(imported_matrix), get_file_name(imported_matrix), '_RF_Performances_all_classificators_CL','.svg'))"
   ]
  },
  {
   "cell_type": "code",
   "execution_count": null,
   "metadata": {},
   "outputs": [],
   "source": [
    "display_performances_wl([ binary_OvsCL_df], [50, 75,100],get_file_name(imported_matrix) + ' - Performances of binary classification Onset vs Control-Local', 'Number of estimators', 'Performances', PERF_XSIZE, PERF_YSIZE, ['*'], 150, [ 'onset vs control_local'], FIGSAVE, fig_path= merge_path_filename(get_file_path(imported_matrix), get_file_name(imported_matrix), '_RF_Performances_all_classificators_OvsCL','.svg'))"
   ]
  },
  {
   "cell_type": "markdown",
   "metadata": {},
   "source": [
    "Confusion matrices"
   ]
  },
  {
   "cell_type": "code",
   "execution_count": null,
   "metadata": {},
   "outputs": [],
   "source": [
    "cm_binary_OC = confusion_matrix(ybin_OC_test, ybinary_prediction_OC, normalize= 'pred')\n",
    "cm_binary_OC75 = confusion_matrix(ybin_OC_test, ybinary_prediction_OC75, normalize= 'pred')\n",
    "cm_binary_OC50 = confusion_matrix(ybin_OC_test, ybinary_prediction_OC50, normalize= 'pred')\n",
    "\n",
    "cm_binary_OL = confusion_matrix(ybin_OL_test, ybinary_prediction_OL, normalize= 'pred')\n",
    "cm_binary_OL75 = confusion_matrix(ybin_OL_test, ybinary_prediction_OL75, normalize= 'pred')\n",
    "cm_binary_OL50 = confusion_matrix(ybin_OL_test, ybinary_prediction_OL50, normalize= 'pred')\n",
    "\n",
    "cm_binary_CL = confusion_matrix(ybin_CL_test, ybinary_prediction_CL, normalize= 'pred')\n",
    "cm_binary_CL75 = confusion_matrix(ybin_CL_test, ybinary_prediction_CL75, normalize= 'pred')\n",
    "cm_binary_CL50 = confusion_matrix(ybin_CL_test, ybinary_prediction_CL50, normalize= 'pred')\n",
    "\n",
    "\n",
    "cm_binary_OvsCL = confusion_matrix(ybin_OvsCL_test, ybinary_prediction_OvsCL, normalize= 'pred')\n",
    "cm_binary_OvsCL75 = confusion_matrix(ybin_OvsCL_test, ybinary_prediction_OvsCL75, normalize= 'pred')\n",
    "cm_binary_OvsCL50 = confusion_matrix(ybin_OvsCL_test, ybinary_prediction_OvsCL50, normalize= 'pred')"
   ]
  },
  {
   "cell_type": "code",
   "execution_count": null,
   "metadata": {},
   "outputs": [],
   "source": [
    "display_confusion_matrices_binary_OC = function_subplots_confusionmatrix([cm_binary_OC, cm_binary_OC75, cm_binary_OC50], 1, 3, ['binary classification 100 estimators', 'binary classification 75 estimators','binary classification 50 estimators',],get_file_name(imported_matrix) + ' - all binary classification control vs onset confusion matrices', 25 , 20, labels=[binary_classifier_OC.classes_, binary_classifier_OC75.classes_,binary_classifier_OC50.classes_], fig_save=FIGSAVE, fig_path= merge_path_filename(get_file_path(imported_matrix), get_file_name(imported_matrix), '_RF_confusion_matrix_binary_OC','.svg') )"
   ]
  },
  {
   "cell_type": "code",
   "execution_count": null,
   "metadata": {},
   "outputs": [],
   "source": [
    "display_confusion_matrices_binary_OL = function_subplots_confusionmatrix([cm_binary_OL, cm_binary_OL75, cm_binary_OL50], 1, 3, ['binary classification 100 estimators', 'binary classification 75 estimators','binary classification 50 estimators',],get_file_name(imported_matrix) + ' - all binary classification onset vs local confusion matrices', 25 , 20, labels=[binary_classifier_OL.classes_, binary_classifier_OL75.classes_,binary_classifier_OL50.classes_], fig_save=FIGSAVE, fig_path= merge_path_filename(get_file_path(imported_matrix), get_file_name(imported_matrix), '_RF_confusion_matrix_binary_OL','.svg') )"
   ]
  },
  {
   "cell_type": "code",
   "execution_count": null,
   "metadata": {},
   "outputs": [],
   "source": [
    "display_confusion_matrices_binary_CL = function_subplots_confusionmatrix([cm_binary_CL, cm_binary_CL75, cm_binary_CL50], 1, 3, ['binary classification 100 estimators', 'binary classification 75 estimators','binary classification 50 estimators',],get_file_name(imported_matrix) + ' - all binary classification control vs local confusion matrices', 25 , 20, labels=[binary_classifier_CL.classes_, binary_classifier_CL75.classes_,binary_classifier_CL50.classes_], fig_save=FIGSAVE, fig_path= merge_path_filename(get_file_path(imported_matrix), get_file_name(imported_matrix), '_RF_confusion_matrix_binary_CL','.svg') )"
   ]
  },
  {
   "cell_type": "code",
   "execution_count": null,
   "metadata": {},
   "outputs": [],
   "source": [
    "display_confusion_matrices_binary_OvsCL = function_subplots_confusionmatrix([cm_binary_OvsCL, cm_binary_OvsCL75, cm_binary_OvsCL50], 1, 3, ['binary classification 100 estimators', 'binary classification 75 estimators','binary classification 50 estimators',],get_file_name(imported_matrix) + ' - all binary classification onset vs control-local confusion matrices', 25 , 20, labels=[binary_classifier_OvsCL.classes_, binary_classifier_OvsCL75.classes_,binary_classifier_OvsCL50.classes_], fig_save=FIGSAVE, fig_path= merge_path_filename(get_file_path(imported_matrix), get_file_name(imported_matrix), '_RF_confusion_matrix_binary_OvsCL','.svg') )"
   ]
  },
  {
   "cell_type": "markdown",
   "metadata": {},
   "source": [
    "predicted labels"
   ]
  },
  {
   "cell_type": "code",
   "execution_count": null,
   "metadata": {},
   "outputs": [],
   "source": [
    "df_predicted_labels_OC = create_dataframe(['true_labels', 'predict_labels_100', 'predicted_labels_75', 'predicted_labels_50'], [ybin_OC_test,ybinary_prediction_OC, ybinary_prediction_OC75, ybinary_prediction_OC50])\n",
    "df_predicted_labels_OL = create_dataframe(['true_labels', 'predict_labels_100', 'predicted_labels_75', 'predicted_labels_50'], [ybin_OL_test,ybinary_prediction_OL, ybinary_prediction_OL75, ybinary_prediction_OL50])\n",
    "df_predicted_labels_CL = create_dataframe(['true_labels', 'predict_labels_100', 'predicted_labels_75', 'predicted_labels_50'], [ybin_CL_test,ybinary_prediction_CL, ybinary_prediction_CL75, ybinary_prediction_CL50])\n",
    "df_predicted_labels_OvsCL = create_dataframe(['true_labels', 'predict_labels_100', 'predicted_labels_75', 'predicted_labels_50'], [ybin_OvsCL_test,ybinary_prediction_OvsCL, ybinary_prediction_OvsCL75, ybinary_prediction_OvsCL50])\n",
    "\n"
   ]
  },
  {
   "cell_type": "code",
   "execution_count": null,
   "metadata": {},
   "outputs": [],
   "source": [
    "save_data(df_predicted_labels_OC,path=generate_new_file_path(imported_matrix, '_dataframe_predicted_labels_OC' + ''))\n",
    "save_data(df_predicted_labels_OL,path=generate_new_file_path(imported_matrix, '_dataframe_predicted_labels_OL' + ''))\n",
    "save_data(df_predicted_labels_CL,path=generate_new_file_path(imported_matrix, '_dataframe_predicted_labels_CL' + ''))\n",
    "save_data(df_predicted_labels_OvsCL,path=generate_new_file_path(imported_matrix, '_dataframe_predicted_labels_OvsCL' + ''))"
   ]
  },
  {
   "cell_type": "code",
   "execution_count": null,
   "metadata": {},
   "outputs": [],
   "source": [
    "matrix_for_dict = multi_to_single_header(matrix_tobe_classified, get_value_from_json(matrix_json,'header_num_dict'))"
   ]
  },
  {
   "cell_type": "markdown",
   "metadata": {},
   "source": [
    "Features importances"
   ]
  },
  {
   "cell_type": "code",
   "execution_count": null,
   "metadata": {},
   "outputs": [],
   "source": [
    "#\n",
    "#\tOnset vs Control\n",
    "#\n",
    "\n",
    "feat_imp_binary_OC = relevant_feature_importances(binary_classifier_OC)\n",
    "dic_fi_binary_OC = create_dict_feature_importances(matrix_for_dict, feat_imp_binary_OC, get_value_from_json(matrix_json, 'dic_column_name'))\n",
    "dic_fi_binary_filtered_OC = filter_feature_importances_by_threshold(dic_fi_binary_OC, get_value_from_json(matrix_json, 'threshold'))\n",
    "#dic_fi_num_binary_OC = from_dic_FI_todict_number(dic_fi_binary_OC, get_value_from_json(matrix_json, 'threshold'))\n",
    "#filter_binary_OC_fi = filter_feature_importances(dic_fi_num_binary_OC)\n",
    "\n",
    "feat_imp_binary_OC75 = relevant_feature_importances(binary_classifier_OC75)\n",
    "dic_fi_binary_OC75 = create_dict_feature_importances(matrix_for_dict, feat_imp_binary_OC75, get_value_from_json(matrix_json, 'dic_column_name'))\n",
    "dic_fi_binary_filtered_OC75 = filter_feature_importances_by_threshold(dic_fi_binary_OC75, get_value_from_json(matrix_json, 'threshold'))\n",
    "#dic_fi_num_binary_OC75 = from_dic_FI_todict_number(dic_fi_binary_OC75, get_value_from_json(matrix_json, 'threshold'))\n",
    "#filter_binary_OC75_fi = filter_feature_importances(dic_fi_num_binary_OC75)\n",
    "\n",
    "feat_imp_binary_OC50 = relevant_feature_importances(binary_classifier_OC50)\n",
    "dic_fi_binary_OC50 = create_dict_feature_importances(matrix_for_dict, feat_imp_binary_OC50, get_value_from_json(matrix_json, 'dic_column_name'))\n",
    "dic_fi_binary_filtered_OC50 = filter_feature_importances_by_threshold(dic_fi_binary_OC50, get_value_from_json(matrix_json, 'threshold'))\n",
    "#dic_fi_num_binary_OC50 = from_dic_FI_todict_number(dic_fi_binary_OC50, get_value_from_json(matrix_json, 'threshold'))\n",
    "#filter_binary_OC50_fi = filter_feature_importances(dic_fi_num_binary_OC50)\n",
    "\n",
    "\n",
    "#\n",
    "#\tOnset vs Local\n",
    "#\n",
    "\n",
    "feat_imp_binary_OL = relevant_feature_importances(binary_classifier_OL)\n",
    "dic_fi_binary_OL = create_dict_feature_importances(matrix_for_dict, feat_imp_binary_OL, get_value_from_json(matrix_json, 'dic_column_name'))\n",
    "dic_fi_binary_filtered_OL = filter_feature_importances_by_threshold(dic_fi_binary_OL, get_value_from_json(matrix_json, 'threshold'))\n",
    "#dic_fi_num_binary_OL = from_dic_FI_todict_number(dic_fi_binary_OL, get_value_from_json(matrix_json, 'threshold'))\n",
    "#filter_binary_OL_fi = filter_feature_importances(dic_fi_num_binary_OL)\n",
    "\n",
    "feat_imp_binary_OL75 = relevant_feature_importances(binary_classifier_OL75)\n",
    "dic_fi_binary_OL75 = create_dict_feature_importances(matrix_for_dict, feat_imp_binary_OL75, get_value_from_json(matrix_json, 'dic_column_name'))\n",
    "dic_fi_binary_filtered_OL75 = filter_feature_importances_by_threshold(dic_fi_binary_OL75, get_value_from_json(matrix_json, 'threshold'))\n",
    "#dic_fi_num_binary_OL75 = from_dic_FI_todict_number(dic_fi_binary_OL75, get_value_from_json(matrix_json, 'threshold'))\n",
    "#filter_binary_OL75_fi = filter_feature_importances(dic_fi_num_binary_OL75)\n",
    "\n",
    "feat_imp_binary_OL50 = relevant_feature_importances(binary_classifier_OL50)\n",
    "dic_fi_binary_OL50 = create_dict_feature_importances(matrix_for_dict, feat_imp_binary_OL50, get_value_from_json(matrix_json, 'dic_column_name'))\n",
    "dic_fi_binary_filtered_OL50 = filter_feature_importances_by_threshold(dic_fi_binary_OL50, get_value_from_json(matrix_json, 'threshold'))\n",
    "#dic_fi_num_binary_OL50 = from_dic_FI_todict_number(dic_fi_binary_OL50, get_value_from_json(matrix_json, 'threshold'))\n",
    "#filter_binary_OL50_fi = filter_feature_importances(dic_fi_num_binary_OL50)\n",
    "\n",
    "#\n",
    "#\tControl vs Local\n",
    "#\n",
    "\n",
    "feat_imp_binary_CL = relevant_feature_importances(binary_classifier_CL)\n",
    "dic_fi_binary_CL = create_dict_feature_importances(matrix_for_dict, feat_imp_binary_CL, get_value_from_json(matrix_json, 'dic_column_name'))\n",
    "dic_fi_binary_filtered_CL = filter_feature_importances_by_threshold(dic_fi_binary_CL, get_value_from_json(matrix_json, 'threshold'))\n",
    "#dic_fi_num_binary_CL = from_dic_FI_todict_number(dic_fi_binary_CL, get_value_from_json(matrix_json, 'threshold'))\n",
    "#filter_binary_CL_fi = filter_feature_importances(dic_fi_num_binary_CL)\n",
    "\n",
    "feat_imp_binary_CL75 = relevant_feature_importances(binary_classifier_CL75)\n",
    "dic_fi_binary_CL75 = create_dict_feature_importances(matrix_for_dict, feat_imp_binary_CL75, get_value_from_json(matrix_json, 'dic_column_name'))\n",
    "dic_fi_binary_filtered_CL75 = filter_feature_importances_by_threshold(dic_fi_binary_CL75, get_value_from_json(matrix_json, 'threshold'))\n",
    "#dic_fi_num_binary_CL75 = from_dic_FI_todict_number(dic_fi_binary_CL75, get_value_from_json(matrix_json, 'threshold'))\n",
    "#filter_binary_CL75_fi = filter_feature_importances(dic_fi_num_binary_CL75)\n",
    "\n",
    "feat_imp_binary_CL50 = relevant_feature_importances(binary_classifier_CL50)\n",
    "dic_fi_binary_CL50 = create_dict_feature_importances(matrix_for_dict, feat_imp_binary_CL50, get_value_from_json(matrix_json, 'dic_column_name'))\n",
    "dic_fi_binary_filtered_CL50 = filter_feature_importances_by_threshold(dic_fi_binary_CL50, get_value_from_json(matrix_json, 'threshold'))\n",
    "#dic_fi_num_binary_CL50 = from_dic_FI_todict_number(dic_fi_binary_CL50, get_value_from_json(matrix_json, 'threshold'))\n",
    "#filter_binary_CL50_fi = filter_feature_importances(dic_fi_num_binary_CL50)\n",
    "\n",
    "#\n",
    "#\tOnset vs Control-Local\n",
    "#\n",
    "\n",
    "feat_imp_binary_OvsCL = relevant_feature_importances(binary_classifier_OvsCL)\n",
    "dic_fi_binary_OvsCL = create_dict_feature_importances(matrix_for_dict, feat_imp_binary_OvsCL, get_value_from_json(matrix_json, 'dic_column_name'))\n",
    "dic_fi_binary_filtered_OvsCL = filter_feature_importances_by_threshold(dic_fi_binary_OvsCL, get_value_from_json(matrix_json, 'threshold'))\n",
    "#dic_fi_num_binary_OvsCL = from_dic_FI_todict_number(dic_fi_binary_OvsCL, get_value_from_json(matrix_json, 'threshold'))\n",
    "#filter_binary_OvsCL_fi = filter_feature_importances(dic_fi_num_binary_OvsCL)\n",
    "\n",
    "feat_imp_binary_OvsCL75 = relevant_feature_importances(binary_classifier_OvsCL75)\n",
    "dic_fi_binary_OvsCL75 = create_dict_feature_importances(matrix_for_dict, feat_imp_binary_OvsCL75, get_value_from_json(matrix_json, 'dic_column_name'))\n",
    "dic_fi_binary_filtered_OvsCL75 = filter_feature_importances_by_threshold(dic_fi_binary_OvsCL75, get_value_from_json(matrix_json, 'threshold'))\n",
    "#dic_fi_num_binary_OvsCL75 = from_dic_FI_todict_number(dic_fi_binary_OvsCL75, get_value_from_json(matrix_json, 'threshold'))\n",
    "#filter_binary_OvsCL75_fi = filter_feature_importances(dic_fi_num_binary_OvsCL75)\n",
    "\n",
    "feat_imp_binary_OvsCL50 = relevant_feature_importances(binary_classifier_OvsCL50)\n",
    "dic_fi_binary_OvsCL50 = create_dict_feature_importances(matrix_for_dict, feat_imp_binary_OvsCL50, get_value_from_json(matrix_json, 'dic_column_name'))\n",
    "dic_fi_binary_filtered_OvsCL50 = filter_feature_importances_by_threshold(dic_fi_binary_OvsCL50, get_value_from_json(matrix_json, 'threshold'))\n",
    "#dic_fi_num_binary_OvsCL50 = from_dic_FI_todict_number(dic_fi_binary_OvsCL50, get_value_from_json(matrix_json, 'threshold'))\n",
    "#filter_binary_OvsCL50_fi = filter_feature_importances(dic_fi_num_binary_OvsCL50)"
   ]
  },
  {
   "cell_type": "code",
   "execution_count": null,
   "metadata": {},
   "outputs": [],
   "source": [
    "x_label = 'Metabolite ID'\n",
    "y_label = 'Feature Importance'\n",
    "\n",
    "#\tOnset vs Control\n",
    "\n",
    "df_fi_OC_binary_filtered = create_dataframe([x_label, y_label], [dic_fi_binary_filtered_OC.keys(), dic_fi_binary_filtered_OC.values()])\n",
    "df_fi_OC_binary_filtered.sort_values(by=y_label, ascending = False, inplace = True)\n",
    "plot_features_importances(get_file_name(imported_matrix) + \" - Binary classification onset vs control - 100 estimators\", df_fi_OC_binary_filtered, 'Metabolite ID', y_label, FI_XSIZE, FI_YSIZE,  fig_save=FIGSAVE, fig_path= merge_path_filename(get_file_path(imported_matrix), get_file_name(imported_matrix), '_RF_plot_features_impo_binary_OC100','.svg'))\n",
    "\n",
    "df_fi_OC_binary75_filtered = create_dataframe([x_label, y_label], [dic_fi_binary_filtered_OC75.keys(), dic_fi_binary_filtered_OC75.values()])\n",
    "df_fi_OC_binary75_filtered.sort_values(by=y_label, ascending = False, inplace = True)\n",
    "plot_features_importances(get_file_name(imported_matrix) + \" - Binary classification onset vs control - 75 estimators\", df_fi_OC_binary75_filtered, 'Metabolite ID', y_label, FI_XSIZE, FI_YSIZE,  fig_save=FIGSAVE, fig_path= merge_path_filename(get_file_path(imported_matrix), get_file_name(imported_matrix), '_RF_plot_features_impo_binary_OC75','.svg'))\n",
    "\n",
    "df_fi_OC_binary50_filtered = create_dataframe([x_label, y_label], [dic_fi_binary_filtered_OC50.keys(), dic_fi_binary_filtered_OC50.values()])\n",
    "df_fi_OC_binary50_filtered.sort_values(by=y_label, ascending = False, inplace = True)\n",
    "plot_features_importances(get_file_name(imported_matrix) + \" - Binary classification onset vs control - 50 estimators\", df_fi_OC_binary50_filtered, 'Metabolite ID', y_label, FI_XSIZE, FI_YSIZE, fig_save=FIGSAVE, fig_path= merge_path_filename(get_file_path(imported_matrix), get_file_name(imported_matrix), '_RF_plot_features_impo_binary_OC50','.svg'))\n",
    "\n",
    "#\tOnset vs Local\n",
    "\n",
    "df_fi_OL_binary_filtered = create_dataframe([x_label, y_label], [dic_fi_binary_filtered_OL.keys(), dic_fi_binary_filtered_OL.values()])\n",
    "df_fi_OL_binary_filtered.sort_values(by=y_label, ascending = False, inplace = True)\n",
    "plot_features_importances(get_file_name(imported_matrix) + \" - Binary classification onset  vs local - 100 estimators\", df_fi_OL_binary_filtered, 'Metabolite ID', y_label, FI_XSIZE, FI_YSIZE,  fig_save=FIGSAVE, fig_path= merge_path_filename(get_file_path(imported_matrix), get_file_name(imported_matrix), '_RF_plot_features_impo_binary_OL100','.svg'))\n",
    "\n",
    "df_fi_OL_binary75_filtered = create_dataframe([x_label, y_label], [dic_fi_binary_filtered_OL75.keys(), dic_fi_binary_filtered_OL75.values()])\n",
    "df_fi_OL_binary75_filtered.sort_values(by=y_label, ascending = False, inplace = True)\n",
    "plot_features_importances(get_file_name(imported_matrix) + \" - Binary classification onset vs local - 75 estimators\", df_fi_OL_binary75_filtered, 'Metabolite ID', y_label, FI_XSIZE, FI_YSIZE,  fig_save=FIGSAVE, fig_path= merge_path_filename(get_file_path(imported_matrix), get_file_name(imported_matrix), '_RF_plot_features_impo_binary_OL75','.svg'))\n",
    "\n",
    "df_fi_OL_binary50_filtered = create_dataframe([x_label, y_label], [dic_fi_binary_filtered_OL50.keys(), dic_fi_binary_filtered_OL50.values()])\n",
    "df_fi_OL_binary50_filtered.sort_values(by=y_label, ascending = False, inplace = True)\n",
    "plot_features_importances(get_file_name(imported_matrix) + \" - Binary classification onset vs local - 50 estimators\", df_fi_OL_binary50_filtered, 'Metabolite ID', y_label, FI_XSIZE, FI_YSIZE, fig_save=FIGSAVE, fig_path= merge_path_filename(get_file_path(imported_matrix), get_file_name(imported_matrix), '_RF_plot_features_impo_binary_OL50','.svg'))\n",
    "\n",
    "#\tControl vs Local\n",
    "\n",
    "df_fi_CL_binary_filtered = create_dataframe([x_label, y_label], [dic_fi_binary_filtered_CL.keys(), dic_fi_binary_filtered_CL.values()])\n",
    "df_fi_CL_binary_filtered.sort_values(by=y_label, ascending = False, inplace = True)\n",
    "plot_features_importances(get_file_name(imported_matrix) + \" - Binary classification control vs local - 100 estimators\", df_fi_CL_binary_filtered, 'Metabolite ID', y_label, FI_XSIZE, FI_YSIZE,  fig_save=FIGSAVE, fig_path= merge_path_filename(get_file_path(imported_matrix), get_file_name(imported_matrix), '_RF_plot_features_impo_binary_CL100','.svg'))\n",
    "\n",
    "df_fi_CL_binary75_filtered = create_dataframe([x_label, y_label], [dic_fi_binary_filtered_CL75.keys(), dic_fi_binary_filtered_CL75.values()])\n",
    "df_fi_CL_binary75_filtered.sort_values(by=y_label, ascending = False, inplace = True)\n",
    "plot_features_importances(get_file_name(imported_matrix) + \" - Binary classification control vs local - 75 estimators\", df_fi_CL_binary75_filtered, 'Metabolite ID', y_label, FI_XSIZE, FI_YSIZE,  fig_save=FIGSAVE, fig_path= merge_path_filename(get_file_path(imported_matrix), get_file_name(imported_matrix), '_RF_plot_features_impo_binary_CL75','.svg'))\n",
    "\n",
    "df_fi_CL_binary50_filtered = create_dataframe([x_label, y_label], [dic_fi_binary_filtered_CL50.keys(), dic_fi_binary_filtered_CL50.values()])\n",
    "df_fi_CL_binary50_filtered.sort_values(by=y_label, ascending = False, inplace = True)\n",
    "plot_features_importances(get_file_name(imported_matrix) + \" - Binary classification control vs local - 50 estimators\", df_fi_CL_binary50_filtered, 'Metabolite ID', y_label, FI_XSIZE, FI_YSIZE, fig_save=FIGSAVE, fig_path= merge_path_filename(get_file_path(imported_matrix), get_file_name(imported_matrix), '_RF_plot_features_impo_binary_CL50','.svg'))\n",
    "\n",
    "#\tOnset vs Control-Local\n",
    "\n",
    "df_fi_OvsCL_binary_filtered = create_dataframe([x_label, y_label], [dic_fi_binary_filtered_OvsCL.keys(), dic_fi_binary_filtered_OvsCL.values()])\n",
    "df_fi_OvsCL_binary_filtered.sort_values(by=y_label, ascending = False, inplace = True)\n",
    "plot_features_importances(get_file_name(imported_matrix) + \" - Binary classification onset  vs control-local - 100 estimators\", df_fi_OvsCL_binary_filtered, 'Metabolite ID', y_label, FI_XSIZE, FI_YSIZE,  fig_save=FIGSAVE, fig_path= merge_path_filename(get_file_path(imported_matrix), get_file_name(imported_matrix), '_RF_plot_features_impo_binary_OvsCL100','.svg'))\n",
    "\n",
    "df_fi_OvsCL_binary75_filtered = create_dataframe([x_label, y_label], [dic_fi_binary_filtered_OvsCL75.keys(), dic_fi_binary_filtered_OvsCL75.values()])\n",
    "df_fi_OvsCL_binary75_filtered.sort_values(by=y_label, ascending = False, inplace = True)\n",
    "plot_features_importances(get_file_name(imported_matrix) + \" - Binary classification onset vs control-local - 75 estimators\", df_fi_OvsCL_binary75_filtered, 'Metabolite ID', y_label, FI_XSIZE, FI_YSIZE,  fig_save=FIGSAVE, fig_path= merge_path_filename(get_file_path(imported_matrix), get_file_name(imported_matrix), '_RF_plot_features_impo_binary_OvsCL75','.svg'))\n",
    "\n",
    "df_fi_OvsCL_binary50_filtered = create_dataframe([x_label, y_label], [dic_fi_binary_filtered_OvsCL50.keys(), dic_fi_binary_filtered_OvsCL50.values()])\n",
    "df_fi_OvsCL_binary50_filtered.sort_values(by=y_label, ascending = False, inplace = True)\n",
    "plot_features_importances(get_file_name(imported_matrix) + \" - Binary classification onset vs control-local - 50 estimators\", df_fi_OvsCL_binary50_filtered, 'Metabolite ID', y_label, FI_XSIZE, FI_YSIZE, fig_save=FIGSAVE, fig_path= merge_path_filename(get_file_path(imported_matrix), get_file_name(imported_matrix), '_RF_plot_features_impo_binary_OvsCL50','.svg'))"
   ]
  },
  {
   "cell_type": "markdown",
   "metadata": {},
   "source": [
    "obtain features name"
   ]
  },
  {
   "cell_type": "code",
   "execution_count": null,
   "metadata": {},
   "outputs": [],
   "source": [
    "name_features_OC = get_metabolites_name_byID(matrix_for_dict,list(dic_fi_binary_filtered_OC.keys()) , 'Alignment.ID', 'Metabolite.name' )\n",
    "name_features_OC_75 = get_metabolites_name_byID(matrix_for_dict,list(dic_fi_binary_filtered_OC75.keys()) , 'Alignment.ID', 'Metabolite.name' )\n",
    "name_features_OC_50 = get_metabolites_name_byID(matrix_for_dict,list(dic_fi_binary_filtered_OC50.keys()) , 'Alignment.ID', 'Metabolite.name' )\n",
    "\n",
    "name_features_OL = get_metabolites_name_byID(matrix_for_dict,list(dic_fi_binary_filtered_OL.keys()) , 'Alignment.ID', 'Metabolite.name' )\n",
    "name_features_OL_75 = get_metabolites_name_byID(matrix_for_dict,list(dic_fi_binary_filtered_OL75.keys()) , 'Alignment.ID', 'Metabolite.name' )\n",
    "name_features_OL_50 = get_metabolites_name_byID(matrix_for_dict,list(dic_fi_binary_filtered_OL50.keys()) , 'Alignment.ID', 'Metabolite.name' )\n",
    "\n",
    "name_features_CL = get_metabolites_name_byID(matrix_for_dict,list(dic_fi_binary_filtered_CL.keys()) , 'Alignment.ID', 'Metabolite.name' )\n",
    "name_features_CL_75 = get_metabolites_name_byID(matrix_for_dict,list(dic_fi_binary_filtered_CL75.keys()) , 'Alignment.ID', 'Metabolite.name' )\n",
    "name_features_CL_50 = get_metabolites_name_byID(matrix_for_dict,list(dic_fi_binary_filtered_CL50.keys()) , 'Alignment.ID', 'Metabolite.name' )\n",
    "\n",
    "name_features_OvsCL = get_metabolites_name_byID(matrix_for_dict,list(dic_fi_binary_filtered_OvsCL.keys()) , 'Alignment.ID', 'Metabolite.name' )\n",
    "name_features_OvsCL_75 = get_metabolites_name_byID(matrix_for_dict,list(dic_fi_binary_filtered_OvsCL75.keys()) , 'Alignment.ID', 'Metabolite.name' )\n",
    "name_features_OvsCL_50 = get_metabolites_name_byID(matrix_for_dict,list(dic_fi_binary_filtered_OvsCL50.keys()) , 'Alignment.ID', 'Metabolite.name' )"
   ]
  },
  {
   "cell_type": "code",
   "execution_count": null,
   "metadata": {},
   "outputs": [],
   "source": [
    "df_all_features_OC = create_dataframe([x_label, y_label, 'Metabolite name'], [dic_fi_binary_filtered_OC.keys(), dic_fi_binary_filtered_OC.values(), name_features_OC])\n",
    "df_all_features_OC_75 = create_dataframe([x_label, y_label, 'Metabolite name'], [dic_fi_binary_filtered_OC75.keys(), dic_fi_binary_filtered_OC75.values(), name_features_OC_75])\n",
    "df_all_features_OC_50 = create_dataframe([x_label, y_label, 'Metabolite name'], [dic_fi_binary_filtered_OC50.keys(), dic_fi_binary_filtered_OC50.values(), name_features_OC_50])\n",
    "\n",
    "\n",
    "df_all_features_OL = create_dataframe([x_label, y_label, 'Metabolite name'], [dic_fi_binary_filtered_OL.keys(), dic_fi_binary_filtered_OL.values(), name_features_OL])\n",
    "df_all_features_OL_75 = create_dataframe([x_label, y_label, 'Metabolite name'], [dic_fi_binary_filtered_OL75.keys(), dic_fi_binary_filtered_OL75.values(), name_features_OL_75])\n",
    "df_all_features_OL_50 = create_dataframe([x_label, y_label, 'Metabolite name'], [dic_fi_binary_filtered_OL50.keys(), dic_fi_binary_filtered_OL50.values(), name_features_OL_50])\n",
    "\n",
    "\n",
    "df_all_features_CL = create_dataframe([x_label, y_label, 'Metabolite name'], [dic_fi_binary_filtered_CL.keys(), dic_fi_binary_filtered_CL.values(), name_features_CL])\n",
    "df_all_features_CL_75 = create_dataframe([x_label, y_label, 'Metabolite name'], [dic_fi_binary_filtered_CL75.keys(), dic_fi_binary_filtered_CL75.values(), name_features_CL_75])\n",
    "df_all_features_CL_50 = create_dataframe([x_label, y_label, 'Metabolite name'], [dic_fi_binary_filtered_CL50.keys(), dic_fi_binary_filtered_CL50.values(), name_features_CL_50])\n",
    "\n",
    "df_all_features_OvsCL = create_dataframe([x_label, y_label, 'Metabolite name'], [dic_fi_binary_filtered_OvsCL.keys(), dic_fi_binary_filtered_OvsCL.values(), name_features_OvsCL])\n",
    "df_all_features_OvsCL_75 = create_dataframe([x_label, y_label, 'Metabolite name'], [dic_fi_binary_filtered_OvsCL75.keys(), dic_fi_binary_filtered_OvsCL75.values(), name_features_OvsCL_75])\n",
    "df_all_features_OvsCL_50 = create_dataframe([x_label, y_label, 'Metabolite name'], [dic_fi_binary_filtered_OvsCL50.keys(), dic_fi_binary_filtered_OvsCL50.values(), name_features_OvsCL_50])\n"
   ]
  },
  {
   "cell_type": "code",
   "execution_count": null,
   "metadata": {},
   "outputs": [],
   "source": [
    "save_data(df_all_features_OC,path=generate_new_file_path(imported_matrix, '_dataframe_features_importances_binary_OC_100'))\n",
    "save_data(df_all_features_OC_75,path=generate_new_file_path(imported_matrix, '_dataframe_features_importances_binary_OC_75'))\n",
    "save_data(df_all_features_OC_50,path=generate_new_file_path(imported_matrix, '_dataframe_features_importances_binary_OC_50'))\n",
    "\n",
    "\n",
    "save_data(df_all_features_OL,path=generate_new_file_path(imported_matrix, '_dataframe_features_importances_binary_OL_100'))\n",
    "save_data(df_all_features_OL_75,path=generate_new_file_path(imported_matrix, '_dataframe_features_importances_binary_OL_75'))\n",
    "save_data(df_all_features_OL_50,path=generate_new_file_path(imported_matrix, '_dataframe_features_importances_binary_OL_50'))\n",
    "\n",
    "\n",
    "save_data(df_all_features_CL,path=generate_new_file_path(imported_matrix, '_dataframe_features_importances_binary_CL_100'))\n",
    "save_data(df_all_features_CL_75,path=generate_new_file_path(imported_matrix, '_dataframe_features_importances_binary_CL_75'))\n",
    "save_data(df_all_features_CL_50,path=generate_new_file_path(imported_matrix, '_dataframe_features_importances_binary_CL_50'))\n",
    "\n",
    "save_data(df_all_features_OvsCL,path=generate_new_file_path(imported_matrix, '_dataframe_features_importances_binary_OvsCL_100'))\n",
    "save_data(df_all_features_OvsCL_75,path=generate_new_file_path(imported_matrix, '_dataframe_features_importances_binary_OvsCL_75'))\n",
    "save_data(df_all_features_OvsCL_50,path=generate_new_file_path(imported_matrix, '_dataframe_features_importances_binary_OvsCL_50'))"
   ]
  },
  {
   "cell_type": "markdown",
   "metadata": {},
   "source": [
    "Decision trees"
   ]
  },
  {
   "cell_type": "code",
   "execution_count": null,
   "metadata": {},
   "outputs": [],
   "source": [
    "plot_rf_trees(get_file_name(imported_matrix)+ ' - binary classification onset vs control, 100 estimators', binary_classifier_OC.estimators_, 10, 10, 50,50, binary_classifier_OC.classes_, fig_save=FIGSAVE, fig_path= merge_path_filename(get_file_path(imported_matrix), get_file_name(imported_matrix), '_RF_Decision_tree_binary_100_estimators_OC','.svg'))\n",
    "plot_rf_trees(get_file_name(imported_matrix)+ ' - binary classification onset vs control, 75 estimators', binary_classifier_OC75.estimators_, 5, 15, 50,50, binary_classifier_OC75.classes_, fig_save=FIGSAVE, fig_path= merge_path_filename(get_file_path(imported_matrix), get_file_name(imported_matrix), '_RF_Decision_tree_binary_75_estimators_OC','.svg'))\n",
    "plot_rf_trees(get_file_name(imported_matrix)+ ' - binary classification onset vs control, 50 estimators', binary_classifier_OC50.estimators_, 5, 10, 50,50, binary_classifier_OC50.classes_, fig_save=FIGSAVE, fig_path= merge_path_filename(get_file_path(imported_matrix), get_file_name(imported_matrix), '_RF_Decision_tree_binary_50_estimators_OC','.svg'))"
   ]
  },
  {
   "cell_type": "code",
   "execution_count": null,
   "metadata": {},
   "outputs": [],
   "source": [
    "plot_rf_trees(get_file_name(imported_matrix)+ ' - binary classification onset vs local, 100 estimators', binary_classifier_OL.estimators_, 10, 10, 50,50, binary_classifier_OL.classes_, fig_save=FIGSAVE, fig_path= merge_path_filename(get_file_path(imported_matrix), get_file_name(imported_matrix), '_RF_Decision_tree_binary_100_estimators_OL','.svg'))\n",
    "plot_rf_trees(get_file_name(imported_matrix)+ ' - binary classification onset vs local, 75 estimators', binary_classifier_OL75.estimators_, 5, 15, 50,50, binary_classifier_OL75.classes_, fig_save=FIGSAVE, fig_path= merge_path_filename(get_file_path(imported_matrix), get_file_name(imported_matrix), '_RF_Decision_tree_binary_75_estimators_OL','.svg'))\n",
    "plot_rf_trees(get_file_name(imported_matrix)+ ' - binary classification onset vs local, 50 estimators', binary_classifier_OL50.estimators_, 5, 10, 50,50, binary_classifier_OL50.classes_, fig_save=FIGSAVE, fig_path= merge_path_filename(get_file_path(imported_matrix), get_file_name(imported_matrix), '_RF_Decision_tree_binary_50_estimators_OL','.svg'))\n"
   ]
  },
  {
   "cell_type": "code",
   "execution_count": null,
   "metadata": {},
   "outputs": [],
   "source": [
    "plot_rf_trees(get_file_name(imported_matrix)+ ' - binary classification control vs local , 100 estimators', binary_classifier_CL.estimators_, 10, 10, 50,50, binary_classifier_CL.classes_, fig_save=FIGSAVE, fig_path= merge_path_filename(get_file_path(imported_matrix), get_file_name(imported_matrix), '_RF_Decision_tree_binary_100_estimators_CL','.svg'))\n",
    "plot_rf_trees(get_file_name(imported_matrix)+ ' - binary classification control vs local , 75 estimators', binary_classifier_CL75.estimators_, 5, 15, 50,50, binary_classifier_CL75.classes_, fig_save=FIGSAVE, fig_path= merge_path_filename(get_file_path(imported_matrix), get_file_name(imported_matrix), '_RF_Decision_tree_binary_75_estimators_CL','.svg'))\n",
    "plot_rf_trees(get_file_name(imported_matrix)+ ' - binary classification control vs local , 50 estimators', binary_classifier_CL50.estimators_, 5, 10, 50,50, binary_classifier_CL50.classes_, fig_save=FIGSAVE, fig_path= merge_path_filename(get_file_path(imported_matrix), get_file_name(imported_matrix), '_RF_Decision_tree_binary_50_estimators_CL','.svg'))"
   ]
  },
  {
   "cell_type": "code",
   "execution_count": null,
   "metadata": {},
   "outputs": [],
   "source": [
    "plot_rf_trees(get_file_name(imported_matrix)+ ' - binary classification onset vs control-local , 100 estimators', binary_classifier_OvsCL.estimators_, 10, 10, 50,50, binary_classifier_OvsCL.classes_, fig_save=FIGSAVE, fig_path= merge_path_filename(get_file_path(imported_matrix), get_file_name(imported_matrix), '_RF_Decision_tree_binary_100_estimators_OvsCL','.svg'))\n",
    "plot_rf_trees(get_file_name(imported_matrix)+ ' - binary classification onset vs control-local , 75 estimators', binary_classifier_OvsCL75.estimators_, 5, 15, 50,50, binary_classifier_OvsCL75.classes_, fig_save=FIGSAVE, fig_path= merge_path_filename(get_file_path(imported_matrix), get_file_name(imported_matrix), '_RF_Decision_tree_binary_75_estimators_OvsCL','.svg'))\n",
    "plot_rf_trees(get_file_name(imported_matrix)+ ' - binary classification onset vs control-local , 50 estimators', binary_classifier_OvsCL50.estimators_, 5, 10, 50,50, binary_classifier_OvsCL50.classes_, fig_save=FIGSAVE, fig_path= merge_path_filename(get_file_path(imported_matrix), get_file_name(imported_matrix), '_RF_Decision_tree_binary_50_estimators_OvsCL','.svg'))"
   ]
  },
  {
   "cell_type": "code",
   "execution_count": null,
   "metadata": {},
   "outputs": [],
   "source": [
    "list_param_cv_resul = ['split0_test_score', 'split1_test_score', 'split2_test_score', 'split3_test_score', 'split4_test_score', 'param_max_depth', 'param_max_features', 'rank_test_score']\n",
    "\n",
    "df_binarygrid_OC = create_dataframe_fromgrid_result(binary_grid_OC_100[0], list_param_cv_resul)\n",
    "df_binarygrid_OC75 = create_dataframe_fromgrid_result(binary_grid_OC_75[0], list_param_cv_resul)\n",
    "df_binarygrid_OC50 = create_dataframe_fromgrid_result(binary_grid_OC_50[0], list_param_cv_resul)\n",
    "\n",
    "df_binarygrid_OL = create_dataframe_fromgrid_result(binary_grid_OL_100[0], list_param_cv_resul)\n",
    "df_binarygrid_OL75 = create_dataframe_fromgrid_result(binary_grid_OL_75[0], list_param_cv_resul)\n",
    "df_binarygrid_OL50 = create_dataframe_fromgrid_result(binary_grid_OL_50[0], list_param_cv_resul)\n",
    "\n",
    "df_binarygrid_CL = create_dataframe_fromgrid_result(binary_grid_CL_100[0], list_param_cv_resul)\n",
    "df_binarygrid_CL75 = create_dataframe_fromgrid_result(binary_grid_CL_75[0], list_param_cv_resul)\n",
    "df_binarygrid_CL50 = create_dataframe_fromgrid_result(binary_grid_CL_50[0], list_param_cv_resul)\n",
    "\n",
    "df_binarygrid_OvsCL = create_dataframe_fromgrid_result(binary_grid_OvsCL_100[0], list_param_cv_resul)\n",
    "df_binarygrid_OvsCL75 = create_dataframe_fromgrid_result(binary_grid_OvsCL_75[0], list_param_cv_resul)\n",
    "df_binarygrid_OvsCL50 = create_dataframe_fromgrid_result(binary_grid_OvsCL_50[0], list_param_cv_resul)"
   ]
  },
  {
   "cell_type": "code",
   "execution_count": null,
   "metadata": {},
   "outputs": [],
   "source": [
    "view_test_score_result_bin_OC = function_subplots_testscore_gridsearch(df_binarygrid_OC, ['sqrt', 'log2'], ['split0_test_score', 'split1_test_score', 'split2_test_score', 'split3_test_score', 'split4_test_score'], [get_file_name(imported_matrix) + ' - Binary classification control vs onset 100 estimators: test scores results considering max_features= sqrt', get_file_name(imported_matrix) + ' - Binary classification control vs onset 100 estimators: test scores results considering max_features= log2'], FIGSAVE, fig_path= merge_path_filename(get_file_path(imported_matrix), get_file_name(imported_matrix), '_RF_Test_score_binary_OC100','.svg'))\n",
    "view_test_score_result_bin_OC75 = function_subplots_testscore_gridsearch(df_binarygrid_OC75, ['sqrt', 'log2'], ['split0_test_score', 'split1_test_score', 'split2_test_score', 'split3_test_score', 'split4_test_score'], [get_file_name(imported_matrix) + ' - Binary classification control vs onset 75 estimators: test scores results considering max_features= sqrt', get_file_name(imported_matrix) + ' - Binary classification control vs onset 75 estimators: test scores results considering max_features= log2'], FIGSAVE, fig_path= merge_path_filename(get_file_path(imported_matrix), get_file_name(imported_matrix), '_RF_Test_score_binary_OC75','.svg'))\n",
    "view_test_score_result_bin_OC50 = function_subplots_testscore_gridsearch(df_binarygrid_OC50, ['sqrt', 'log2'], ['split0_test_score', 'split1_test_score', 'split2_test_score', 'split3_test_score', 'split4_test_score'], [get_file_name(imported_matrix) + ' - Binary classification control vs onset 50 estimators: test scores results considering max_features= sqrt', get_file_name(imported_matrix) + ' - Binary classification control vs onset 50 estimators: test scores results considering max_features= log2'], FIGSAVE, fig_path= merge_path_filename(get_file_path(imported_matrix), get_file_name(imported_matrix), '_RF_Test_score_binary_OC50','.svg'))\n",
    "\n",
    "view_test_score_result_bin_OL = function_subplots_testscore_gridsearch(df_binarygrid_OL, ['sqrt', 'log2'], ['split0_test_score', 'split1_test_score', 'split2_test_score', 'split3_test_score', 'split4_test_score'], [get_file_name(imported_matrix) + ' - Binary classification control vs local 100 estimators: test scores results considering max_features= sqrt', get_file_name(imported_matrix) + ' - Binary classification control vs local 100 estimators: test scores results considering max_features= log2'], FIGSAVE, fig_path= merge_path_filename(get_file_path(imported_matrix), get_file_name(imported_matrix), '_RF_Test_score_binary_OL100','.svg'))\n",
    "view_test_score_result_bin_OL75 = function_subplots_testscore_gridsearch(df_binarygrid_OL75, ['sqrt', 'log2'], ['split0_test_score', 'split1_test_score', 'split2_test_score', 'split3_test_score', 'split4_test_score'], [get_file_name(imported_matrix) + ' - Binary classification control vs local 75 estimators: test scores results considering max_features= sqrt', get_file_name(imported_matrix) + ' - Binary classification control vs local 75 estimators: test scores results considering max_features= log2'], FIGSAVE, fig_path= merge_path_filename(get_file_path(imported_matrix), get_file_name(imported_matrix), '_RF_Test_score_binary_OL75','.svg'))\n",
    "view_test_score_result_bin_OL50 = function_subplots_testscore_gridsearch(df_binarygrid_OL50, ['sqrt', 'log2'], ['split0_test_score', 'split1_test_score', 'split2_test_score', 'split3_test_score', 'split4_test_score'], [get_file_name(imported_matrix) + ' - Binary classification control vs local 50 estimators: test scores results considering max_features= sqrt', get_file_name(imported_matrix) + ' - Binary classification control vs local 50 estimators: test scores results considering max_features= log2'], FIGSAVE, fig_path= merge_path_filename(get_file_path(imported_matrix), get_file_name(imported_matrix), '_RF_Test_score_binary_OL50','.svg'))\n",
    "\n",
    "view_test_score_result_bin_CL = function_subplots_testscore_gridsearch(df_binarygrid_CL, ['sqrt', 'log2'], ['split0_test_score', 'split1_test_score', 'split2_test_score', 'split3_test_score', 'split4_test_score'], [get_file_name(imported_matrix) + ' - Binary classification control vs local 100 estimators: test scores results considering max_features= sqrt', get_file_name(imported_matrix) + ' - Binary classification control vs local 100 estimators: test scores results considering max_features= log2'], FIGSAVE, fig_path= merge_path_filename(get_file_path(imported_matrix), get_file_name(imported_matrix), '_RF_Test_score_binary_CL100','.svg'))\n",
    "view_test_score_result_bin_CL75 = function_subplots_testscore_gridsearch(df_binarygrid_CL75, ['sqrt', 'log2'], ['split0_test_score', 'split1_test_score', 'split2_test_score', 'split3_test_score', 'split4_test_score'], [get_file_name(imported_matrix) + ' - Binary classification control vs local 75 estimators: test scores results considering max_features= sqrt', get_file_name(imported_matrix) + ' - Binary classification control vs local 75 estimators: test scores results considering max_features= log2'], FIGSAVE, fig_path= merge_path_filename(get_file_path(imported_matrix), get_file_name(imported_matrix), '_RF_Test_score_binary_CL75','.svg'))\n",
    "view_test_score_result_bin_CL50 = function_subplots_testscore_gridsearch(df_binarygrid_CL50, ['sqrt', 'log2'], ['split0_test_score', 'split1_test_score', 'split2_test_score', 'split3_test_score', 'split4_test_score'], [get_file_name(imported_matrix) + ' - Binary classification control vs local 50 estimators: test scores results considering max_features= sqrt', get_file_name(imported_matrix) + ' - Binary classification control vs local 50 estimators: test scores results considering max_features= log2'], FIGSAVE, fig_path= merge_path_filename(get_file_path(imported_matrix), get_file_name(imported_matrix), '_RF_Test_score_binary_CL50','.svg'))\n",
    "\n",
    "view_test_score_result_bin_OvsCL = function_subplots_testscore_gridsearch(df_binarygrid_OvsCL, ['sqrt', 'log2'], ['split0_test_score', 'split1_test_score', 'split2_test_score', 'split3_test_score', 'split4_test_score'], [get_file_name(imported_matrix) + ' - Binary classification control vs local-control 100 estimators: test scores results considering max_features= sqrt', get_file_name(imported_matrix) + ' - Binary classification control vs local-control 100 estimators: test scores results considering max_features= log2'], FIGSAVE, fig_path= merge_path_filename(get_file_path(imported_matrix), get_file_name(imported_matrix), '_RF_Test_score_binary_OvsCL100','.svg'))\n",
    "view_test_score_result_bin_OvsCL75 = function_subplots_testscore_gridsearch(df_binarygrid_OvsCL75, ['sqrt', 'log2'], ['split0_test_score', 'split1_test_score', 'split2_test_score', 'split3_test_score', 'split4_test_score'], [get_file_name(imported_matrix) + ' - Binary classification control vs local-control 75 estimators: test scores results considering max_features= sqrt', get_file_name(imported_matrix) + ' - Binary classification control vs local-control 75 estimators: test scores results considering max_features= log2'], FIGSAVE, fig_path= merge_path_filename(get_file_path(imported_matrix), get_file_name(imported_matrix), '_RF_Test_score_binary_OvsCL75','.svg'))\n",
    "view_test_score_result_bin_OvsCL50 = function_subplots_testscore_gridsearch(df_binarygrid_OvsCL50, ['sqrt', 'log2'], ['split0_test_score', 'split1_test_score', 'split2_test_score', 'split3_test_score', 'split4_test_score'], [get_file_name(imported_matrix) + ' - Binary classification control vs local-control 50 estimators: test scores results considering max_features= sqrt', get_file_name(imported_matrix) + ' - Binary classification control vs local-control 50 estimators: test scores results considering max_features= log2'], FIGSAVE, fig_path= merge_path_filename(get_file_path(imported_matrix), get_file_name(imported_matrix), '_RF_Test_score_binary_OvsCL50','.svg'))"
   ]
  },
  {
   "cell_type": "code",
   "execution_count": null,
   "metadata": {},
   "outputs": [],
   "source": [
    "imported_matrix.close()\n",
    "matrix_json.close()"
   ]
  }
 ],
 "metadata": {
  "kernelspec": {
   "display_name": "msc",
   "language": "python",
   "name": "msc"
  },
  "orig_nbformat": 4
 },
 "nbformat": 4,
 "nbformat_minor": 2
}

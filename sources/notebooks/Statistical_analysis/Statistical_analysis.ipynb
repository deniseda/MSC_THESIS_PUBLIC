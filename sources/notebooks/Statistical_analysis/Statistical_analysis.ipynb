{
 "cells": [
  {
   "cell_type": "code",
   "execution_count": 1,
   "metadata": {},
   "outputs": [],
   "source": [
    "import pickle\n",
    "from matplotlib.cbook import boxplot_stats\n",
    "from sklearn.metrics import r2_score, mean_squared_error, median_absolute_error\n",
    "import scipy.stats "
   ]
  },
  {
   "cell_type": "code",
   "execution_count": 48,
   "metadata": {},
   "outputs": [],
   "source": [
    "%run \"../../common/matrix.py\"\n",
    "%run \"../../common/file_handler.py\"\n",
    "%run \"../../common/plot_functions.py\"\n",
    "%run \"../../common/svr_normalization.py\"\n",
    "%run \"../../common/statistics.py\"\n",
    "%run \"../../common/random_forest_reg.py\""
   ]
  },
  {
   "cell_type": "code",
   "execution_count": 3,
   "metadata": {},
   "outputs": [],
   "source": [
    "METPLOT_XSIZE = 15\n",
    "METPLOT_YSIZE = 8\n",
    "R2PLOT_XSIZE = 10\n",
    "R2PLOT_YSIZE = 7 \n",
    "BOXPLOT_XSIZE = 30\n",
    "BOXPLOT_YSIZE = 15\n",
    "FACET_XSIZE = 20\n",
    "FACET_YSIZE = 9\n",
    "SUBDIST_XSIZE = 35\n",
    "SUBDIST_YSIZE = 30\n",
    "XGRID_PLOT = 30\n",
    "YGRID_PLOT = 10"
   ]
  },
  {
   "cell_type": "code",
   "execution_count": 4,
   "metadata": {},
   "outputs": [],
   "source": [
    "SAVE_FIGURE = False"
   ]
  },
  {
   "cell_type": "markdown",
   "metadata": {},
   "source": [
    "#### Importing matrices one normalized and one raw."
   ]
  },
  {
   "cell_type": "code",
   "execution_count": 6,
   "metadata": {},
   "outputs": [],
   "source": [
    "matrix_raw_file = open_file_from_fullpath(ask_file_path(), 'r')\n",
    "matrix_raw = pd.read_perseus(matrix_raw_file)"
   ]
  },
  {
   "cell_type": "code",
   "execution_count": 7,
   "metadata": {},
   "outputs": [],
   "source": [
    "matrix_normalized_file = open_file_from_fullpath(ask_file_path(), 'r')\n",
    "matrix_normalized = pd.read_perseus(matrix_normalized_file)"
   ]
  },
  {
   "cell_type": "code",
   "execution_count": 8,
   "metadata": {},
   "outputs": [],
   "source": [
    "json_file = open_file_from_fullpath(ask_file_path(), 'r')"
   ]
  },
  {
   "cell_type": "markdown",
   "metadata": {},
   "source": [
    "Checking if we're analysing an SVR, RF or Quantile normalized matrix"
   ]
  },
  {
   "cell_type": "code",
   "execution_count": 9,
   "metadata": {},
   "outputs": [],
   "source": [
    "MATRIX_TYPE = \"\"\n",
    "\n",
    "if 'svr' in get_file_name(matrix_normalized_file):\n",
    "    MATRIX_TYPE = 'svr'\n",
    "elif 'rf' in get_file_name(matrix_normalized_file):\n",
    "    MATRIX_TYPE = 'rf'\n",
    "elif 'quantile' in get_file_name(matrix_normalized_file):\n",
    "    MATRIX_TYPE = 'quantile'"
   ]
  },
  {
   "cell_type": "code",
   "execution_count": 10,
   "metadata": {},
   "outputs": [],
   "source": [
    "if MATRIX_TYPE != 'quantile':\n",
    "\tgrid_file = open_file_from_fullpath(ask_file_path(), 'rb')\n",
    "\tgrid_search = pickle.load(grid_file) #list"
   ]
  },
  {
   "cell_type": "markdown",
   "metadata": {},
   "source": [
    "raw"
   ]
  },
  {
   "cell_type": "code",
   "execution_count": 11,
   "metadata": {},
   "outputs": [],
   "source": [
    "matrix_qc_raw = slice_submatrix(matrix_raw, get_value_from_json(json_file, 'QC_slice'))\n",
    "dictionary_qc_raw,  matrix_qc_raw = rename_matrixheader(matrix_qc_raw, get_value_from_json(json_file, 'QC_rename'))\n",
    "matrix_qc_raw = sort_by_injection_order(matrix_qc_raw)\n",
    "\n",
    "matrix_sample_raw = slice_submatrix(matrix_raw, get_value_from_json(json_file, 'sample_slice'))\n",
    "dictionary_sample_raw, matrix_sample_raw = rename_matrixheader(matrix_sample_raw, get_value_from_json(json_file, 'sample_rename'))\n",
    "matrix_sample_raw = sort_by_injection_order(matrix_sample_raw)"
   ]
  },
  {
   "cell_type": "markdown",
   "metadata": {},
   "source": [
    "normalized"
   ]
  },
  {
   "cell_type": "code",
   "execution_count": 12,
   "metadata": {},
   "outputs": [],
   "source": [
    "matrix_qc_norm = slice_submatrix(matrix_normalized, get_value_from_json(json_file, 'QC_slice'))\n",
    "dictionary_qc_norm, matrix_qc_norm = rename_matrixheader(matrix_qc_norm, get_value_from_json(json_file, 'QC_rename'))\n",
    "matrix_qc_norm = sort_by_injection_order(matrix_qc_norm)\n",
    "\n",
    "matrix_sample_norm = slice_submatrix(matrix_normalized, get_value_from_json(json_file, 'sample_slice'))\n",
    "dictionary_sample_norm, matrix_sample_norm = rename_matrixheader(matrix_sample_norm, get_value_from_json(json_file, 'sample_rename'))\n",
    "matrix_sample_norm = sort_by_injection_order(matrix_sample_norm)"
   ]
  },
  {
   "cell_type": "markdown",
   "metadata": {},
   "source": [
    "Obtain injection order and metabolites for each matrix"
   ]
  },
  {
   "cell_type": "code",
   "execution_count": 13,
   "metadata": {},
   "outputs": [],
   "source": [
    "qc_raw_metabolites = cut_metabolites(matrix_qc_raw)\n",
    "qc_raw_injection_order = get_injection_order_plugin(matrix_qc_raw)\n",
    "\n",
    "sample_raw_metabolites = cut_metabolites(matrix_sample_raw)\n",
    "sample_raw_injection_order = get_injection_order_plugin(matrix_sample_raw)\n",
    "\n",
    "qc_norm_metabolites = cut_metabolites(matrix_qc_norm)\n",
    "qc_norm_injection_order = get_injection_order_plugin(matrix_qc_norm)\n",
    "\n",
    "sample_norm_metabolites = cut_metabolites(matrix_sample_norm)\n",
    "sample_norm_injection_order = get_injection_order_plugin(matrix_sample_norm)"
   ]
  },
  {
   "cell_type": "markdown",
   "metadata": {},
   "source": [
    "PREDICTION"
   ]
  },
  {
   "cell_type": "code",
   "execution_count": 14,
   "metadata": {},
   "outputs": [],
   "source": [
    "if MATRIX_TYPE == \"svr\":\n",
    "    qc_predicted_meta = prediction(grid_search, qc_raw_metabolites, qc_raw_injection_order)\n",
    "    sample_predicted_meta = prediction(grid_search, sample_raw_metabolites, sample_raw_injection_order)\n",
    "elif MATRIX_TYPE == \"rf\":\n",
    "    qc_predicted_meta = get_prediction(grid_search, qc_raw_metabolites)\n",
    "    sample_predicted_meta = get_prediction(grid_search, sample_raw_metabolites)\n",
    "else:\n",
    "    print('unsupported grid search!')"
   ]
  },
  {
   "cell_type": "markdown",
   "metadata": {},
   "source": [
    "Plots"
   ]
  },
  {
   "cell_type": "code",
   "execution_count": 44,
   "metadata": {},
   "outputs": [],
   "source": [
    "met_n = int(input('please insert metabolite number '))\n",
    "if met_n > len(sample_raw_metabolites):\n",
    "    print('out of metabolites range!')"
   ]
  },
  {
   "cell_type": "markdown",
   "metadata": {},
   "source": [
    "### Plot of QC and samples rawdata. \n",
    "Here we can see the analytical drift of the metabolite previously chosen"
   ]
  },
  {
   "cell_type": "code",
   "execution_count": 54,
   "metadata": {},
   "outputs": [
    {
     "data": {
      "image/png": "[encoded data removed]",
      "text/plain": [
       "<Figure size 1080x576 with 1 Axes>"
      ]
     },
     "metadata": {
      "needs_background": "light"
     },
     "output_type": "display_data"
    }
   ],
   "source": [
    "plot_metabolite(qc_raw_injection_order, qc_raw_metabolites[met_n], sample_raw_injection_order, sample_raw_metabolites[met_n], METPLOT_XSIZE, METPLOT_YSIZE, 'Raw intensities of metabolite in both QC and samples')"
   ]
  },
  {
   "cell_type": "markdown",
   "metadata": {},
   "source": [
    "#### Plot of QC and sample metabolite without drift. \n",
    "This plot shows the ratio of the metabolite previously chosen "
   ]
  },
  {
   "cell_type": "code",
   "execution_count": 53,
   "metadata": {},
   "outputs": [
    {
     "data": {
      "image/png": "[encoded data removed]",
      "text/plain": [
       "<Figure size 1080x576 with 1 Axes>"
      ]
     },
     "metadata": {
      "needs_background": "light"
     },
     "output_type": "display_data"
    }
   ],
   "source": [
    "plot_metabolite(qc_norm_injection_order, qc_norm_metabolites[met_n], sample_norm_injection_order, sample_norm_metabolites[met_n], METPLOT_XSIZE, METPLOT_YSIZE, 'Normalized intensities of metabolite in both QC and samples')"
   ]
  },
  {
   "cell_type": "markdown",
   "metadata": {},
   "source": [
    "#### Plot of QC and samples metabolite intensity\n",
    "This plot shows the intensity normalized"
   ]
  },
  {
   "cell_type": "code",
   "execution_count": 55,
   "metadata": {},
   "outputs": [
    {
     "data": {
      "image/png": "[encoded data removed]",
      "text/plain": [
       "<Figure size 1080x576 with 1 Axes>"
      ]
     },
     "metadata": {
      "needs_background": "light"
     },
     "output_type": "display_data"
    }
   ],
   "source": [
    "if MATRIX_TYPE != \"quantile\":\n",
    "\tplot_metabolite(qc_norm_injection_order, qc_predicted_meta[met_n], sample_norm_injection_order, sample_predicted_meta[met_n], METPLOT_XSIZE, METPLOT_YSIZE, 'Predicted drift in both QC and samples')"
   ]
  },
  {
   "cell_type": "markdown",
   "metadata": {},
   "source": [
    "##### Most used parameters in grid search"
   ]
  },
  {
   "cell_type": "code",
   "execution_count": null,
   "metadata": {},
   "outputs": [],
   "source": [
    "if MATRIX_TYPE != \"quantile\":\n",
    "\tplot_grid_best_parameters(get_file_name(matrix_normalized_file) + ' - Most used params in grid search', grid_search, XGRID_PLOT, YGRID_PLOT, save_fig= SAVE_FIGURE, fig_path= merge_path_filename(get_file_path(matrix_normalized_file), get_file_name(matrix_normalized_file), '_Best_grid_params','.svg'))"
   ]
  },
  {
   "cell_type": "markdown",
   "metadata": {},
   "source": [
    "##### Mean and variance of each metabolites in QC"
   ]
  },
  {
   "cell_type": "code",
   "execution_count": null,
   "metadata": {},
   "outputs": [],
   "source": [
    "variance_rawqc, mean_rawqc = get_variance_mean(qc_raw_metabolites)\n",
    "variance_normqc, mean_normqc = get_variance_mean(qc_norm_metabolites)\n",
    "if MATRIX_TYPE != \"quantile\":\n",
    "\tvariance_predqc, mean_predqc = get_variance_mean(qc_predicted_meta)"
   ]
  },
  {
   "cell_type": "code",
   "execution_count": null,
   "metadata": {},
   "outputs": [],
   "source": [
    "sb.distplot(qc_raw_metabolites)\n",
    "if MATRIX_TYPE != \"quantile\":\n",
    "\tsb.distplot(qc_predicted_meta)"
   ]
  },
  {
   "cell_type": "code",
   "execution_count": null,
   "metadata": {},
   "outputs": [],
   "source": [
    "total_var_qcraw = np.var(qc_raw_metabolites)\n",
    "if MATRIX_TYPE != \"quantile\":\n",
    "\ttotal_var_qcpred = np.var(qc_predicted_meta)\n",
    "total_var_qcnorm = np.var(qc_norm_metabolites)\n",
    "if MATRIX_TYPE != \"quantile\":\n",
    "\tprint(total_var_qcraw, total_var_qcpred, total_var_qcnorm)\n",
    "else:\n",
    "\tprint(total_var_qcraw, total_var_qcnorm)"
   ]
  },
  {
   "cell_type": "code",
   "execution_count": null,
   "metadata": {},
   "outputs": [],
   "source": [
    "np.array(qc_raw_metabolites)"
   ]
  },
  {
   "cell_type": "code",
   "execution_count": null,
   "metadata": {},
   "outputs": [],
   "source": [
    "plot_variance(get_file_name(matrix_raw_file) + ' Variances between qc raw and normalized ',variance_rawqc, variance_normqc, 10,10, 'var_qc_raw', 'var_qc_norm' ,color_r= 'blue', color_n= 'yellow', save_fig= SAVE_FIGURE, fig_path= merge_path_filename(get_file_path(matrix_normalized_file), get_file_name(matrix_normalized_file), '_Variance_between_qcraw_and_norm','.svg'))"
   ]
  },
  {
   "cell_type": "code",
   "execution_count": null,
   "metadata": {},
   "outputs": [],
   "source": [
    "variance_plot(variance_normqc,50, R2PLOT_XSIZE, R2PLOT_YSIZE,title= get_file_name(matrix_normalized_file) + ' - variance qc norm', fig_save= SAVE_FIGURE, fig_path= merge_path_filename(get_file_path(matrix_normalized_file), get_file_name(matrix_normalized_file), '_Variance_qc_norm','.svg') )"
   ]
  },
  {
   "cell_type": "code",
   "execution_count": null,
   "metadata": {},
   "outputs": [],
   "source": [
    "if MATRIX_TYPE != \"quantile\":\n",
    "\tvariance_plot(variance_predqc, 50, R2PLOT_XSIZE, R2PLOT_YSIZE, title= get_file_name(matrix_normalized_file) + ' - variance qc pred', fig_save=SAVE_FIGURE, fig_path= merge_path_filename(get_file_path(matrix_normalized_file), get_file_name(matrix_normalized_file), '_Variance_qc_pred','.svg') )"
   ]
  },
  {
   "cell_type": "code",
   "execution_count": null,
   "metadata": {},
   "outputs": [],
   "source": [
    "variance_plot(variance_rawqc, 50, R2PLOT_XSIZE, R2PLOT_YSIZE, title= get_file_name(matrix_raw_file) + ' - variance qc raw', fig_save=SAVE_FIGURE, fig_path= merge_path_filename(get_file_path(matrix_raw_file), get_file_name(matrix_raw_file), '_Variance_qc_raw','.svg') )"
   ]
  },
  {
   "cell_type": "markdown",
   "metadata": {},
   "source": [
    "##### R2score"
   ]
  },
  {
   "cell_type": "code",
   "execution_count": null,
   "metadata": {},
   "outputs": [],
   "source": [
    "# for each model\n",
    "if MATRIX_TYPE != \"quantile\":\n",
    "\tr2qc = get_r2_score(qc_raw_metabolites, qc_predicted_meta)\n",
    "\tmean_r2 = np.mean(r2qc)\n",
    "\tvar_r2 = np.var(r2qc)"
   ]
  },
  {
   "cell_type": "code",
   "execution_count": null,
   "metadata": {},
   "outputs": [],
   "source": [
    "if MATRIX_TYPE != \"quantile\":\n",
    "\tr2qc.shape"
   ]
  },
  {
   "cell_type": "code",
   "execution_count": null,
   "metadata": {},
   "outputs": [],
   "source": [
    "if MATRIX_TYPE != \"quantile\":\n",
    "\tprint(mean_r2, var_r2)"
   ]
  },
  {
   "cell_type": "code",
   "execution_count": null,
   "metadata": {},
   "outputs": [],
   "source": [
    "if MATRIX_TYPE != \"quantile\":\n",
    "\tplot_r2_distribution(r2qc, BOXPLOT_XSIZE, BOXPLOT_YSIZE, get_file_name(matrix_normalized_file) + ' R2 score',fig_save=SAVE_FIGURE, fig_path= merge_path_filename(get_file_path(matrix_normalized_file), get_file_name(matrix_normalized_file), '_R2score_qcraw_pred_histoplot','.svg') )"
   ]
  },
  {
   "cell_type": "code",
   "execution_count": null,
   "metadata": {},
   "outputs": [],
   "source": [
    "if MATRIX_TYPE != \"quantile\":\n",
    "\tr2qc_threshold = np.array(list(filter(lambda x: x > 0.5, r2qc)))\n",
    "\tr2qc_threshold.shape"
   ]
  },
  {
   "cell_type": "code",
   "execution_count": null,
   "metadata": {},
   "outputs": [],
   "source": [
    "if MATRIX_TYPE != \"quantile\":\n",
    "\tplot_scatterR2(get_file_name(matrix_raw_file) ,np.array(qc_raw_metabolites).T, np.array(qc_predicted_meta).T, 'Original', 'Predicted', 10, 10 ,fig_save=SAVE_FIGURE, fig_path= merge_path_filename(get_file_path(matrix_normalized_file), get_file_name(matrix_normalized_file), '_R2score_qcraw_pred_scatter','.svg'))"
   ]
  },
  {
   "cell_type": "markdown",
   "metadata": {},
   "source": [
    "MSE (mean squared error)"
   ]
  },
  {
   "cell_type": "code",
   "execution_count": null,
   "metadata": {},
   "outputs": [],
   "source": [
    "if MATRIX_TYPE != \"quantile\":\n",
    "\tmse_qc = get_mse_score(qc_raw_metabolites, qc_predicted_meta )\n",
    "\tmean_mse_qc_model = np.mean(mse_qc)\n",
    "\tmean_mse_qc_model"
   ]
  },
  {
   "cell_type": "code",
   "execution_count": null,
   "metadata": {},
   "outputs": [],
   "source": [
    "if MATRIX_TYPE != \"quantile\":\n",
    "\tplot_r2_distribution(mse_qc, BOXPLOT_XSIZE, BOXPLOT_YSIZE, get_file_name(matrix_normalized_file) + ' MSE score',fig_save=SAVE_FIGURE, fig_path= merge_path_filename(get_file_path(matrix_normalized_file), get_file_name(matrix_normalized_file), '_MSEscore_qcraw_pred_histoplot','.svg'))"
   ]
  },
  {
   "cell_type": "markdown",
   "metadata": {},
   "source": [
    "Median absolute error"
   ]
  },
  {
   "cell_type": "code",
   "execution_count": null,
   "metadata": {},
   "outputs": [],
   "source": [
    "if MATRIX_TYPE != \"quantile\":\n",
    "\tmae_qc = get_MedAE(qc_raw_metabolites, qc_predicted_meta)\n",
    "\tmean_mae_qc = np.mean(mae_qc)\n",
    "\tmean_mae_qc"
   ]
  },
  {
   "cell_type": "markdown",
   "metadata": {},
   "source": [
    "#### Relevant"
   ]
  },
  {
   "cell_type": "code",
   "execution_count": null,
   "metadata": {},
   "outputs": [],
   "source": [
    "matched_matrix= slice_submatrix(matrix_normalized, get_value_from_json(json_file, 'fil_column_name'))\n",
    "matched_matrix = filter_matrix(matched_matrix, get_value_from_json(json_file, 'fil_column_name'), get_value_from_json(json_file, 'column_value'))"
   ]
  },
  {
   "cell_type": "code",
   "execution_count": null,
   "metadata": {},
   "outputs": [],
   "source": [
    "#norm\n",
    "\n",
    "qc_meta_filtered_norm = relevant_metabolite(qc_norm_metabolites, matched_matrix, get_value_from_json(json_file, 'num_rele_meta'))\n",
    "sample_meta_filtered_norm = relevant_metabolite(sample_norm_metabolites, matched_matrix, get_value_from_json(json_file, 'num_rele_meta'))\n",
    "\n",
    "#raw\n",
    "\n",
    "qc_meta_filtered_raw = relevant_metabolite(qc_raw_metabolites, matched_matrix, get_value_from_json(json_file, 'num_rele_meta'))\n",
    "sample_meta_filtered_raw = relevant_metabolite(sample_raw_metabolites, matched_matrix, get_value_from_json(json_file, 'num_rele_meta'))"
   ]
  },
  {
   "cell_type": "code",
   "execution_count": null,
   "metadata": {},
   "outputs": [],
   "source": [
    "# raw\n",
    "vect_qc_raw_filter_meta, vect_qc_filter_raw_inj_ord  = matrix_to_vector(qc_raw_injection_order, qc_meta_filtered_raw)\n",
    "vect_sample_raw_filter_meta, vect_sample_filter_raw_inj_ord = matrix_to_vector(sample_raw_injection_order, sample_meta_filtered_raw)\n",
    "# norm\n",
    "vect_qc_norm_filter_meta, vect_qc_filter_norm_inj_ord = matrix_to_vector(qc_norm_injection_order, qc_meta_filtered_norm)\n",
    "vect_sample_filter_norm_meta, vect_sample_filter_norm_inj_ord = matrix_to_vector(sample_norm_injection_order, sample_meta_filtered_norm)"
   ]
  },
  {
   "cell_type": "code",
   "execution_count": null,
   "metadata": {},
   "outputs": [],
   "source": [
    "# predicted\n",
    "if MATRIX_TYPE != \"quantile\":\n",
    "\tqc_meta_filtered_predicted = relevant_metabolite(qc_predicted_meta, matched_matrix, get_value_from_json(json_file, 'num_rele_meta'))\n",
    "\tsample_meta_filtered_predicted = relevant_metabolite(sample_predicted_meta, matched_matrix, get_value_from_json(json_file, 'num_rele_meta'))"
   ]
  },
  {
   "cell_type": "code",
   "execution_count": null,
   "metadata": {},
   "outputs": [],
   "source": [
    "# predicted\n",
    "if MATRIX_TYPE != \"quantile\":\n",
    "\tvect_qc_pred_filter_meta, vect_qc_filter_pred_inj_ord = matrix_to_vector(qc_raw_injection_order, qc_meta_filtered_predicted)\n",
    "\tvect_sample_pred_filter_meta, vect_sample_filter_pred_inj_ord = matrix_to_vector(sample_raw_injection_order, sample_meta_filtered_predicted)"
   ]
  },
  {
   "cell_type": "markdown",
   "metadata": {},
   "source": [
    "##### Boxplot of rawdata, predicted and normalized data "
   ]
  },
  {
   "cell_type": "markdown",
   "metadata": {},
   "source": [
    "##### Boxplot of filter metabolites (rawdata)"
   ]
  },
  {
   "cell_type": "code",
   "execution_count": null,
   "metadata": {},
   "outputs": [],
   "source": [
    "boxplot_qc_raw = plot_filter_meta_boxplot(vect_qc_filter_raw_inj_ord, vect_qc_raw_filter_meta, xsize= METPLOT_XSIZE, ysize= METPLOT_YSIZE, title= get_file_name(matrix_raw_file) + ' - QC raw',fig_save=SAVE_FIGURE, fig_path= merge_path_filename(get_file_path(matrix_raw_file), get_file_name(matrix_raw_file), '_Boxplot_qcraw_strip_relevatmeta','.svg'))"
   ]
  },
  {
   "cell_type": "code",
   "execution_count": null,
   "metadata": {},
   "outputs": [],
   "source": [
    "dataframe_qc_filter_raw = pd.DataFrame(create_df_boxplot_stat(qc_meta_filtered_raw))\n",
    "dataframe_qc_filter_raw['fliers']"
   ]
  },
  {
   "cell_type": "code",
   "execution_count": null,
   "metadata": {},
   "outputs": [],
   "source": [
    "save_data(dataframe_qc_filter_raw, path=generate_new_file_path(matrix_raw_file, '_boxplot_analysis_qc_filtered_raw' + ''))"
   ]
  },
  {
   "cell_type": "markdown",
   "metadata": {},
   "source": [
    "#### Boxplot of filter metabolites (predicted value)"
   ]
  },
  {
   "cell_type": "code",
   "execution_count": null,
   "metadata": {},
   "outputs": [],
   "source": [
    "if MATRIX_TYPE != \"quantile\":\n",
    "\tplot_filter_meta_boxplot( vect_qc_filter_pred_inj_ord, vect_qc_pred_filter_meta, title=get_file_name(matrix_raw_file) + ' - QC predicted', xsize=METPLOT_XSIZE, ysize= METPLOT_YSIZE, fig_save=SAVE_FIGURE, fig_path= merge_path_filename(get_file_path(matrix_normalized_file), get_file_name(matrix_normalized_file), '_Boxplot_qcpred_strip_relevatmeta','.svg'))"
   ]
  },
  {
   "cell_type": "code",
   "execution_count": null,
   "metadata": {},
   "outputs": [],
   "source": [
    "if MATRIX_TYPE != \"quantile\":\n",
    "\tdataframe_qc_filter_pred = pd.DataFrame(create_df_boxplot_stat(qc_meta_filtered_predicted))\n",
    "\tdataframe_qc_filter_pred['fliers']"
   ]
  },
  {
   "cell_type": "code",
   "execution_count": null,
   "metadata": {},
   "outputs": [],
   "source": [
    "if MATRIX_TYPE != \"quantile\":\n",
    "\tsave_data(dataframe_qc_filter_pred, path=generate_new_file_path(matrix_normalized_file, '_boxplot_analysis_qc_filtered_pred' + ''))"
   ]
  },
  {
   "cell_type": "markdown",
   "metadata": {},
   "source": [
    "#### Boxplot of filter metabolites (ratio values)\n",
    "P.N. If the imported matrix contains intensities normalized, the plot doesn't show the ratio but the intensities normalized itself."
   ]
  },
  {
   "cell_type": "code",
   "execution_count": null,
   "metadata": {},
   "outputs": [],
   "source": [
    "plot_filter_meta_boxplot( vect_qc_filter_norm_inj_ord, vect_qc_norm_filter_meta, title= get_file_name(matrix_normalized_file) + ' - QC normalized', xsize= METPLOT_XSIZE, ysize= METPLOT_YSIZE ,fig_save=SAVE_FIGURE, fig_path= merge_path_filename(get_file_path(matrix_normalized_file), get_file_name(matrix_normalized_file), '_Boxplot_qcnorm_strip_relevatmeta','.svg'))"
   ]
  },
  {
   "cell_type": "code",
   "execution_count": null,
   "metadata": {},
   "outputs": [],
   "source": [
    "dataframe_qc_filtered_norm = pd.DataFrame(create_df_boxplot_stat(qc_meta_filtered_norm))\n",
    "for i in range(len(dataframe_qc_filtered_norm['fliers'])):\n",
    "\tprint(dataframe_qc_filtered_norm['fliers'][i])"
   ]
  },
  {
   "cell_type": "code",
   "execution_count": null,
   "metadata": {},
   "outputs": [],
   "source": [
    "save_data(dataframe_qc_filtered_norm, path=generate_new_file_path(matrix_normalized_file, '_boxplot_analysis_qc_filtered_normalized' + ''))"
   ]
  },
  {
   "cell_type": "markdown",
   "metadata": {},
   "source": [
    "#### Dataframes containing plots scores\n",
    "P.N. normalized values depend of matrix imported"
   ]
  },
  {
   "cell_type": "markdown",
   "metadata": {},
   "source": [
    "This plot shows all cohort composed by QC and samples on X axes and the raw intensity of filtered metabolites on y axes. "
   ]
  },
  {
   "cell_type": "code",
   "execution_count": null,
   "metadata": {},
   "outputs": [],
   "source": [
    "plot_filter_meta_boxplot( vect_sample_filter_raw_inj_ord, vect_sample_raw_filter_meta, xsize=BOXPLOT_XSIZE, ysize = BOXPLOT_YSIZE, title= get_file_name(matrix_raw_file) + ' - samples raw', fig_save=SAVE_FIGURE, fig_path= merge_path_filename(get_file_path(matrix_raw_file), get_file_name(matrix_raw_file), '_Boxplot_sampleraw_strip_relevatmeta','.svg'))"
   ]
  },
  {
   "cell_type": "code",
   "execution_count": null,
   "metadata": {},
   "outputs": [],
   "source": [
    "get_percentile(sample_raw_injection_order, np.array(sample_meta_filtered_raw).T)"
   ]
  },
  {
   "cell_type": "code",
   "execution_count": null,
   "metadata": {},
   "outputs": [],
   "source": [
    "dataframe_samples_filtered_raw= pd.DataFrame(create_df_boxplot_stat(sample_meta_filtered_raw))"
   ]
  },
  {
   "cell_type": "code",
   "execution_count": null,
   "metadata": {},
   "outputs": [],
   "source": [
    "save_data(dataframe_samples_filtered_raw, path=generate_new_file_path(matrix_raw_file, '_boxplot_analysis_samples_filtered_raw' + ''))"
   ]
  },
  {
   "cell_type": "code",
   "execution_count": null,
   "metadata": {},
   "outputs": [],
   "source": [
    "plot_filter_meta_boxplot( vect_sample_filter_norm_inj_ord, vect_sample_filter_norm_meta, xsize=BOXPLOT_XSIZE, ysize= BOXPLOT_YSIZE, title= get_file_name(matrix_normalized_file) + ' - samples normalized', fig_save=SAVE_FIGURE, fig_path= merge_path_filename(get_file_path(matrix_normalized_file), get_file_name(matrix_normalized_file), '_Boxplot_samplenorm_strip_relevatmeta','.svg'))"
   ]
  },
  {
   "cell_type": "code",
   "execution_count": null,
   "metadata": {},
   "outputs": [],
   "source": [
    "dataframe_samples_filtered_norm= pd.DataFrame(create_df_boxplot_stat(sample_meta_filtered_norm))"
   ]
  },
  {
   "cell_type": "code",
   "execution_count": null,
   "metadata": {},
   "outputs": [],
   "source": [
    "save_data(dataframe_samples_filtered_norm, path=generate_new_file_path(matrix_normalized_file, '_boxplot_analysis_samples_filtered_norm' + ''))"
   ]
  },
  {
   "cell_type": "markdown",
   "metadata": {},
   "source": [
    "Predicted vales : This plot shows all cohort composed by QC and samples on X axes and the intensity normalized of filtered metabolites on y axes. "
   ]
  },
  {
   "cell_type": "code",
   "execution_count": null,
   "metadata": {},
   "outputs": [],
   "source": [
    "if MATRIX_TYPE != \"quantile\":\n",
    "\tplot_filter_meta_boxplot( vect_sample_filter_pred_inj_ord, vect_sample_pred_filter_meta, xsize = BOXPLOT_XSIZE, ysize = BOXPLOT_YSIZE, title= get_file_name(matrix_raw_file) + ' - sample predicted', fig_save=SAVE_FIGURE, fig_path= merge_path_filename(get_file_path(matrix_normalized_file), get_file_name(matrix_normalized_file), '_Boxplot_samplepredicted_strip_relevatmeta','.svg'))"
   ]
  },
  {
   "cell_type": "code",
   "execution_count": null,
   "metadata": {},
   "outputs": [],
   "source": [
    "if MATRIX_TYPE != \"quantile\":\n",
    "\tdataframe_samples_filtered_predicted = pd.DataFrame(create_df_boxplot_stat(sample_meta_filtered_predicted))"
   ]
  },
  {
   "cell_type": "code",
   "execution_count": null,
   "metadata": {},
   "outputs": [],
   "source": [
    "if MATRIX_TYPE != \"quantile\":\n",
    "\tsave_data(dataframe_samples_filtered_predicted, path=generate_new_file_path(matrix_normalized_file, '_boxplot_analysis_samples_filtered_pred' + ''))"
   ]
  },
  {
   "cell_type": "markdown",
   "metadata": {},
   "source": [
    "#### Facet_plot\n",
    "The plots below show the filtered metabolites in different cases: raw intensity/ predicted/ ratio (or intensity normalized) are divided between QC and Samples so each plot exhibit special case. "
   ]
  },
  {
   "cell_type": "code",
   "execution_count": null,
   "metadata": {},
   "outputs": [],
   "source": [
    "qc_raw_facet =generate_data_facet_plot(qc_raw_injection_order, qc_meta_filtered_raw)\n",
    "qc_norm_facet = generate_data_facet_plot(qc_norm_injection_order, qc_meta_filtered_norm)\n",
    "\n",
    "sample_raw_facet = generate_data_facet_plot(sample_raw_injection_order, sample_meta_filtered_raw)\n",
    "sample_norm_facet = generate_data_facet_plot(sample_norm_injection_order, sample_meta_filtered_norm)"
   ]
  },
  {
   "cell_type": "code",
   "execution_count": null,
   "metadata": {},
   "outputs": [],
   "source": [
    "if MATRIX_TYPE != \"quantile\":\n",
    "\tqc_pred_facet = generate_data_facet_plot(qc_raw_injection_order, qc_meta_filtered_predicted)\n",
    "\tsample_pred_facet = generate_data_facet_plot(sample_raw_injection_order, sample_meta_filtered_predicted)"
   ]
  },
  {
   "cell_type": "code",
   "execution_count": null,
   "metadata": {},
   "outputs": [],
   "source": [
    "qc_filt_raw_boxplot = create_facetgrid_plot(qc_raw_facet, FACET_XSIZE, FACET_YSIZE, title= get_file_name(matrix_raw_file) + ' - Intensity variation',fig_save=SAVE_FIGURE, fig_path= merge_path_filename(get_file_path(matrix_raw_file), get_file_name(matrix_raw_file), '_Boxplot_50rele_qcraw','.svg'))"
   ]
  },
  {
   "cell_type": "code",
   "execution_count": null,
   "metadata": {},
   "outputs": [],
   "source": [
    "df_qcraw_inmeta = pd.DataFrame(boxplot_stats(np.array(qc_meta_filtered_raw).T))"
   ]
  },
  {
   "cell_type": "code",
   "execution_count": null,
   "metadata": {},
   "outputs": [],
   "source": [
    "\n",
    "save_data(df_qcraw_inmeta, path=generate_new_file_path(matrix_raw_file, '_boxplot_analysis_metaqc_filtered_raw' + ''))"
   ]
  },
  {
   "cell_type": "code",
   "execution_count": null,
   "metadata": {},
   "outputs": [],
   "source": [
    "create_facetgrid_plot(qc_norm_facet, FACET_XSIZE, FACET_YSIZE, title= get_file_name(matrix_normalized_file) + ' - Intensity variation', fig_save=SAVE_FIGURE, fig_path= merge_path_filename(get_file_path(matrix_normalized_file), get_file_name(matrix_normalized_file), '_Boxplot_50rele_qcnorm','.svg'))"
   ]
  },
  {
   "cell_type": "code",
   "execution_count": null,
   "metadata": {},
   "outputs": [],
   "source": [
    "df_qcnorm_inmeta = pd.DataFrame(boxplot_stats(np.array(qc_meta_filtered_norm).T))"
   ]
  },
  {
   "cell_type": "code",
   "execution_count": null,
   "metadata": {},
   "outputs": [],
   "source": [
    "save_data(df_qcnorm_inmeta, path=generate_new_file_path(matrix_normalized_file, '_boxplot_analysis_qcmeta_filtered_norm' + ''))"
   ]
  },
  {
   "cell_type": "code",
   "execution_count": null,
   "metadata": {},
   "outputs": [],
   "source": [
    "if MATRIX_TYPE != \"quantile\":\n",
    "\tcreate_facetgrid_plot(qc_pred_facet, FACET_XSIZE, FACET_YSIZE, title= get_file_name(matrix_raw_file) + ' - Intensity variation (predicted)', fig_save=SAVE_FIGURE, fig_path= merge_path_filename(get_file_path(matrix_normalized_file), get_file_name(matrix_normalized_file), '_Boxplot_50rele_qcpred','.svg'))"
   ]
  },
  {
   "cell_type": "code",
   "execution_count": null,
   "metadata": {},
   "outputs": [],
   "source": [
    "if MATRIX_TYPE != \"quantile\":\n",
    "\tdf_qcpred_inmeta= pd.DataFrame(boxplot_stats(np.array(qc_meta_filtered_predicted).T))"
   ]
  },
  {
   "cell_type": "code",
   "execution_count": null,
   "metadata": {},
   "outputs": [],
   "source": [
    "if MATRIX_TYPE != \"quantile\":\n",
    "\tsave_data(df_qcpred_inmeta, path=generate_new_file_path(matrix_normalized_file, '_boxplot_analysis_qcmeta_filtered_pred' + ''))"
   ]
  },
  {
   "cell_type": "code",
   "execution_count": null,
   "metadata": {},
   "outputs": [],
   "source": [
    "create_facetgrid_plot(sample_raw_facet, FACET_XSIZE, FACET_YSIZE, title= get_file_name(matrix_raw_file) + ' - Intensity variation in samples', fig_save=SAVE_FIGURE, fig_path= merge_path_filename(get_file_path(matrix_raw_file), get_file_name(matrix_raw_file), '_Boxplot_50rele_sampleraw','.svg'))"
   ]
  },
  {
   "cell_type": "code",
   "execution_count": null,
   "metadata": {},
   "outputs": [],
   "source": [
    "df_sampleraw_in_meta = pd.DataFrame(boxplot_stats(np.array(sample_meta_filtered_raw).T))"
   ]
  },
  {
   "cell_type": "code",
   "execution_count": null,
   "metadata": {},
   "outputs": [],
   "source": [
    "save_data(df_sampleraw_in_meta, path=generate_new_file_path(matrix_raw_file, '_boxplot_analysis_samplesmeta_filtered_raw' + ''))"
   ]
  },
  {
   "cell_type": "code",
   "execution_count": null,
   "metadata": {},
   "outputs": [],
   "source": [
    "create_facetgrid_plot(sample_norm_facet, FACET_XSIZE, FACET_YSIZE, title= get_file_name(matrix_normalized_file) + ' - Intensity variation in samples',fig_save=SAVE_FIGURE, fig_path= merge_path_filename(get_file_path(matrix_normalized_file), get_file_name(matrix_normalized_file), '_Boxplot_50rele_samplesnorm','.svg'))"
   ]
  },
  {
   "cell_type": "code",
   "execution_count": null,
   "metadata": {},
   "outputs": [],
   "source": [
    "df_samplenorm_inmeta= pd.DataFrame(boxplot_stats(np.array(sample_meta_filtered_norm).T))"
   ]
  },
  {
   "cell_type": "code",
   "execution_count": null,
   "metadata": {},
   "outputs": [],
   "source": [
    "\n",
    "save_data(df_samplenorm_inmeta, path=generate_new_file_path(matrix_normalized_file, '_boxplot_analysis_samplemeta_filtered_normalized' + ''))"
   ]
  },
  {
   "cell_type": "code",
   "execution_count": null,
   "metadata": {},
   "outputs": [],
   "source": [
    "if MATRIX_TYPE != \"quantile\":\n",
    "\tcreate_facetgrid_plot(sample_pred_facet, FACET_XSIZE, FACET_YSIZE, title= get_file_name(matrix_raw_file) + ' - Intensity variation in samples (predicted)',fig_save=SAVE_FIGURE, fig_path= merge_path_filename(get_file_path(matrix_normalized_file), get_file_name(matrix_normalized_file), '_Boxplot_50rele_samplepred','.svg'))"
   ]
  },
  {
   "cell_type": "code",
   "execution_count": null,
   "metadata": {},
   "outputs": [],
   "source": [
    "if MATRIX_TYPE != \"quantile\":\n",
    "\tdf_samplepred_inmeta= pd.DataFrame(boxplot_stats(np.array(sample_meta_filtered_predicted).T))"
   ]
  },
  {
   "cell_type": "code",
   "execution_count": null,
   "metadata": {},
   "outputs": [],
   "source": [
    "if MATRIX_TYPE != \"quantile\":\n",
    "\tsave_data(df_samplepred_inmeta, path=generate_new_file_path(matrix_normalized_file, '_boxplot_analysis_samplemeta_filtered_predicted' + ''))"
   ]
  },
  {
   "cell_type": "markdown",
   "metadata": {},
   "source": [
    "R2 score"
   ]
  },
  {
   "cell_type": "code",
   "execution_count": null,
   "metadata": {},
   "outputs": [],
   "source": [
    "variance_fil_rawqc, mean_fil_rawqc = get_variance_mean(qc_meta_filtered_raw)\n",
    "variance_fil_normqc, mean_fil_normqc = get_variance_mean(qc_meta_filtered_norm)"
   ]
  },
  {
   "cell_type": "code",
   "execution_count": null,
   "metadata": {},
   "outputs": [],
   "source": [
    "plot_variance(get_file_name(matrix_raw_file) + ' - Variance between QC raw and normalized (filtered metabolites)', variance_fil_rawqc, variance_fil_normqc, 10,10, 'var_fil_qc_raw', 'var_fil_qc_norm' ,color_r= 'blue', color_n= 'red', alpha_n= .6, bin = 70,save_fig= SAVE_FIGURE, fig_path= merge_path_filename(get_file_path(matrix_normalized_file), get_file_name(matrix_normalized_file), '_Variance_between_filter_qcraw_and_norm','.svg') )"
   ]
  },
  {
   "cell_type": "code",
   "execution_count": null,
   "metadata": {},
   "outputs": [],
   "source": [
    "total_var_fil_qcraw = np.var(qc_meta_filtered_raw)\n",
    "total_var_fil_qcnorm = np.var(qc_meta_filtered_norm)\n",
    "if MATRIX_TYPE != \"quantile\":\n",
    "\ttotal_var_fil_qcpred = np.var(qc_meta_filtered_predicted)\n",
    "if MATRIX_TYPE != \"quantile\":\n",
    "\tprint(total_var_fil_qcraw, total_var_fil_qcnorm, total_var_fil_qcpred)\n",
    "else:\n",
    "\tprint(total_var_fil_qcraw, total_var_fil_qcnorm)"
   ]
  },
  {
   "cell_type": "code",
   "execution_count": null,
   "metadata": {},
   "outputs": [],
   "source": [
    "if MATRIX_TYPE != \"quantile\":\n",
    "\tr2_filqc = get_r2_score(qc_meta_filtered_raw, qc_meta_filtered_predicted)\n",
    "\tr2_filqc"
   ]
  },
  {
   "cell_type": "code",
   "execution_count": null,
   "metadata": {},
   "outputs": [],
   "source": [
    "if MATRIX_TYPE != \"quantile\":\n",
    "\tvariance_r2_filqc = np.var(r2_filqc)\n",
    "\tmean_r2_filqc = np.mean(r2_filqc)\n",
    "\tprint(variance_r2_filqc, mean_r2_filqc)"
   ]
  },
  {
   "cell_type": "code",
   "execution_count": null,
   "metadata": {},
   "outputs": [],
   "source": [
    "if MATRIX_TYPE != \"quantile\":\n",
    "\tplot_r2_distribution(r2_filqc, BOXPLOT_XSIZE, BOXPLOT_YSIZE, title= get_file_name(matrix_raw_file) + ' - R2score relevant metabolites',fig_save=SAVE_FIGURE, fig_path= merge_path_filename(get_file_path(matrix_normalized_file), get_file_name(matrix_normalized_file), '_R2score_relevant_qcraw_pred_histoplot','.svg'))"
   ]
  },
  {
   "cell_type": "code",
   "execution_count": null,
   "metadata": {},
   "outputs": [],
   "source": [
    "if MATRIX_TYPE != \"quantile\":\n",
    "\tplot_scatterR2(get_file_name(matrix_raw_file) + ' - relevant metabolites - ', np.array(qc_meta_filtered_raw).T, np.array(qc_meta_filtered_predicted).T, 'Original', 'Predicted', 10, 10, fig_save=SAVE_FIGURE, fig_path= merge_path_filename(get_file_path(matrix_normalized_file), get_file_name(matrix_normalized_file), '_R2score_relevant_qcraw_pred_scatter','.svg'))"
   ]
  },
  {
   "cell_type": "markdown",
   "metadata": {},
   "source": [
    "##### Based on filtered metabolites, these plots show the batch experiment without analytical drift."
   ]
  },
  {
   "cell_type": "markdown",
   "metadata": {},
   "source": [
    "### Raw"
   ]
  },
  {
   "cell_type": "code",
   "execution_count": null,
   "metadata": {},
   "outputs": [],
   "source": [
    "subplots_filtered_meta_nodrift(get_file_name(matrix_raw_file) + ' raw relevant metabolites ',qc_raw_injection_order, qc_meta_filtered_raw, sample_raw_injection_order, sample_meta_filtered_raw, 10, 50, BOXPLOT_XSIZE, BOXPLOT_YSIZE,fig_save=SAVE_FIGURE, fig_path= merge_path_filename(get_file_path(matrix_raw_file), get_file_name(matrix_raw_file), '_subplots_raw_relevant_metabolites','.svg'))"
   ]
  },
  {
   "cell_type": "markdown",
   "metadata": {},
   "source": [
    "#### Ratio\n",
    "For intensities case change y-axis scale."
   ]
  },
  {
   "cell_type": "code",
   "execution_count": null,
   "metadata": {},
   "outputs": [],
   "source": [
    "subplots_filtered_meta_nodrift(get_file_name(matrix_normalized_file) + ' - relevant metabolites', qc_raw_injection_order, qc_meta_filtered_norm, sample_norm_injection_order, sample_meta_filtered_norm, -3, 50, BOXPLOT_XSIZE, BOXPLOT_YSIZE,fig_save=SAVE_FIGURE, fig_path= merge_path_filename(get_file_path(matrix_normalized_file), get_file_name(matrix_normalized_file), '_Subplots_relevat_metabolites_normalized','.svg'))"
   ]
  },
  {
   "cell_type": "markdown",
   "metadata": {},
   "source": [
    "Drift predicted"
   ]
  },
  {
   "cell_type": "code",
   "execution_count": null,
   "metadata": {},
   "outputs": [],
   "source": [
    "if MATRIX_TYPE != \"quantile\":\n",
    "\tsubplots_filtered_meta_nodrift(get_file_name(matrix_raw_file) + ' predicted relevant metabolites ', qc_raw_injection_order, qc_meta_filtered_predicted, sample_norm_injection_order, sample_meta_filtered_predicted, 10, 40, BOXPLOT_XSIZE, BOXPLOT_YSIZE,fig_save=SAVE_FIGURE, fig_path= merge_path_filename(get_file_path(matrix_normalized_file), get_file_name(matrix_normalized_file), '_Subplots_relevant_metabolites_predicted','.svg'))"
   ]
  },
  {
   "cell_type": "markdown",
   "metadata": {},
   "source": [
    "#### Distribution subplot"
   ]
  },
  {
   "cell_type": "code",
   "execution_count": null,
   "metadata": {},
   "outputs": [],
   "source": [
    "distr = prepare_data_to_gaussian_distribution(qc_meta_filtered_norm, sample_meta_filtered_norm, qc_raw_injection_order, sample_norm_injection_order)"
   ]
  },
  {
   "cell_type": "code",
   "execution_count": null,
   "metadata": {},
   "outputs": [],
   "source": [
    "subplots_gaussian_distribution(distr, get_file_name(matrix_normalized_file) + ' - Distribution of filtered metabolites', SUBDIST_XSIZE, SUBDIST_YSIZE,fig_save=SAVE_FIGURE, fig_path= merge_path_filename(get_file_path(matrix_normalized_file), get_file_name(matrix_normalized_file), '_Distribution_relevant_metabolites','.svg'))"
   ]
  },
  {
   "cell_type": "code",
   "execution_count": null,
   "metadata": {},
   "outputs": [],
   "source": [
    "matrix_normalized_file.close()\n",
    "matrix_raw_file.close()\n",
    "\n",
    "json_file.close()"
   ]
  }
 ],
 "metadata": {
  "interpreter": {
   "hash": "cb3e02e0d51c48e82ba868d9179278121474effaf9dbb5046ccfb2546e53ab2a"
  },
  "kernelspec": {
   "display_name": "msc-denise",
   "language": "python",
   "name": "python3"
  },
  "language_info": {
   "codemirror_mode": {
    "name": "ipython",
    "version": 3
   },
   "file_extension": ".py",
   "mimetype": "text/x-python",
   "name": "python",
   "nbconvert_exporter": "python",
   "pygments_lexer": "ipython3",
   "version": "3.10.4"
  },
  "orig_nbformat": 4
 },
 "nbformat": 4,
 "nbformat_minor": 2
}
